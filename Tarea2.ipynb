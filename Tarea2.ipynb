{
 "cells": [
  {
   "cell_type": "markdown",
   "id": "d8485859",
   "metadata": {},
   "source": [
    "<table style=\"width:100%; border-collapse: collapse;\">\n",
    "    <tr>\n",
    "        <td style=\"width: 30%; text-align: center;\">\n",
    "            <img src=\"https://s3.amazonaws.com/media-p.slid.es/uploads/1485763/images/9060062/Header.png\" width=\"300\" alt=\"Header Image\"/>\n",
    "        </td>\n",
    "        <td style=\"width: 5%;\"></td>\n",
    "        <td style=\"width: 35%; text-align: center;\">\n",
    "            <h1 style=\"font-size: 250%; color: #004aad; margin: 0;\">\n",
    "                Taller 2\n",
    "            </h1>\n",
    "        </td>\n",
    "        <td style=\"width: 30%; text-align: left; vertical-align: middle;\">\n",
    "            <p style=\"font-size: 110%; text-align: center; margin: 5px 0;\">Aplicaciones de ML</p>\n",
    "            <p style=\"font-size: 120%; text-align: center; margin: 5px 0;\">Maestría MACC</p>\n",
    "            <p style=\"font-size: 120%; text-align: center; margin: 5px 0;\">\n",
    "                Estudiantes: \n",
    "                <b style=\"color: #d9534f;\">Leandro Sánchez Quiroga</b>, \n",
    "                <b style=\"color: #d9534f;\">Leonardo Vargas</b> \n",
    "            </p>\n",
    "        </td>\n",
    "    </tr>\n",
    "</table>"
   ]
  },
  {
   "cell_type": "markdown",
   "id": "0fdbfcba",
   "metadata": {},
   "source": [
    "## Clasificación de Género Cinematográfico a Partir de Sinopsis\n",
    "\n",
    "En este proyecto exploramos el uso de modelos estadísticos para representar textos en lenguaje natural mediante técnicas de modelado de tópicos, con el objetivo final de clasificar películas según su género. A partir del dataset **The Movies Dataset** de Kaggle, que contiene metadatos de más de 45.000 películas, desarrollamos un pipeline completo que incluye:\n",
    "\n",
    "- **Preprocesamiento del texto** (sinopsis) usando spaCy.\n",
    "- **Filtrado del dataset** para quedarnos únicamente con películas que tienen un solo género asignado.\n",
    "- **Vectorización del texto** utilizando *Supervised Latent Dirichlet Allocation (sLDA)*.\n",
    "- **Entrenamiento de modelos supervisados** para predecir si una película pertenece al género *Drama*.\n",
    "- **Evaluación del desempeño del modelo** y análisis de resultados.\n",
    "\n",
    "### Herramientas utilizadas\n",
    "\n",
    "- `pandas`, `numpy` y `matplotlib` para manejo de datos y visualización.\n",
    "- `spaCy` para el procesamiento de lenguaje natural.\n",
    "- `tomotopy` para el modelado supervisado de tópicos (sLDA).\n",
    "- `scikit-learn` para la división de conjuntos, evaluación de modelos y clasificación.\n",
    "- Funciones personalizadas en `utils.py` para modularizar el código y mantener una arquitectura clara y reutilizable.\n"
   ]
  },
  {
   "cell_type": "code",
   "execution_count": 1,
   "id": "b2318181",
   "metadata": {},
   "outputs": [
    {
     "name": "stderr",
     "output_type": "stream",
     "text": [
      "c:\\Users\\jlvar\\OneDrive - Universidad del rosario\\001 - MMACC\\2025-1\\002 - Aplicaicones ML\\Tarea 2\\Tarea2\\lib\\site-packages\\tqdm\\auto.py:21: TqdmWarning: IProgress not found. Please update jupyter and ipywidgets. See https://ipywidgets.readthedocs.io/en/stable/user_install.html\n",
      "  from .autonotebook import tqdm as notebook_tqdm\n"
     ]
    },
    {
     "name": "stdout",
     "output_type": "stream",
     "text": [
      "Collecting en-core-web-sm==3.8.0\n",
      "  Downloading https://github.com/explosion/spacy-models/releases/download/en_core_web_sm-3.8.0/en_core_web_sm-3.8.0-py3-none-any.whl (12.8 MB)\n",
      "     ---------------------------------------- 0.0/12.8 MB ? eta -:--:--\n",
      "     --- ------------------------------------ 1.0/12.8 MB 5.6 MB/s eta 0:00:03\n",
      "     -------- ------------------------------- 2.6/12.8 MB 7.6 MB/s eta 0:00:02\n",
      "     ------------ --------------------------- 3.9/12.8 MB 6.5 MB/s eta 0:00:02\n",
      "     ---------------- ----------------------- 5.2/12.8 MB 6.5 MB/s eta 0:00:02\n",
      "     -------------------- ------------------- 6.6/12.8 MB 6.4 MB/s eta 0:00:01\n",
      "     -------------------------- ------------- 8.4/12.8 MB 6.8 MB/s eta 0:00:01\n",
      "     ------------------------------- -------- 10.0/12.8 MB 7.1 MB/s eta 0:00:01\n",
      "     ------------------------------------- -- 12.1/12.8 MB 7.2 MB/s eta 0:00:01\n",
      "     ---------------------------------------- 12.8/12.8 MB 7.2 MB/s eta 0:00:00\n",
      "\u001b[38;5;2m✔ Download and installation successful\u001b[0m\n",
      "You can now load the package via spacy.load('en_core_web_sm')\n"
     ]
    }
   ],
   "source": [
    "from utils import *\n",
    "import pandas as pd\n",
    "import os\n",
    "import pandas as pd\n",
    "import numpy as np\n",
    "import seaborn as sns\n",
    "import ast\n",
    "import matplotlib.pyplot as plt\n",
    "from sklearn.model_selection import train_test_split\n",
    "import tomotopy as tp\n",
    "! python -m spacy download en_core_web_sm"
   ]
  },
  {
   "cell_type": "markdown",
   "id": "ecbe97d3",
   "metadata": {},
   "source": [
    "### Carga y preparación del conjunto de datos\n",
    "\n",
    "En esta celda se ejecuta la función `generar_datos_entrenamiento()`, la cual realiza la limpieza y estructuración del dataset original descargado desde Kaggle. Si el data set no se ha descargado se crea una nueva carpeta y se descarga en ella la información, en el caso de que ya este el data set solo lo carga.\n",
    "\n",
    "\n"
   ]
  },
  {
   "cell_type": "code",
   "execution_count": 2,
   "id": "13adf5ed",
   "metadata": {},
   "outputs": [
    {
     "name": "stdout",
     "output_type": "stream",
     "text": [
      "Los archivos ya están descargados en la carpeta 'Data'.\n",
      "Número de películas finales: 14136\n",
      "Número de géneros: 20\n"
     ]
    },
    {
     "data": {
      "text/html": [
       "<div>\n",
       "<style scoped>\n",
       "    .dataframe tbody tr th:only-of-type {\n",
       "        vertical-align: middle;\n",
       "    }\n",
       "\n",
       "    .dataframe tbody tr th {\n",
       "        vertical-align: top;\n",
       "    }\n",
       "\n",
       "    .dataframe thead th {\n",
       "        text-align: right;\n",
       "    }\n",
       "</style>\n",
       "<table border=\"1\" class=\"dataframe\">\n",
       "  <thead>\n",
       "    <tr style=\"text-align: right;\">\n",
       "      <th></th>\n",
       "      <th>title</th>\n",
       "      <th>overview</th>\n",
       "      <th>genre_id</th>\n",
       "      <th>genre_name</th>\n",
       "    </tr>\n",
       "  </thead>\n",
       "  <tbody>\n",
       "    <tr>\n",
       "      <th>4</th>\n",
       "      <td>Father of the Bride Part II</td>\n",
       "      <td>Just when George Banks has recovered from his ...</td>\n",
       "      <td>35</td>\n",
       "      <td>Comedy</td>\n",
       "    </tr>\n",
       "    <tr>\n",
       "      <th>25</th>\n",
       "      <td>Othello</td>\n",
       "      <td>The evil Iago pretends to be friend of Othello...</td>\n",
       "      <td>18</td>\n",
       "      <td>Drama</td>\n",
       "    </tr>\n",
       "    <tr>\n",
       "      <th>35</th>\n",
       "      <td>Dead Man Walking</td>\n",
       "      <td>A justice drama based on a true story about a ...</td>\n",
       "      <td>18</td>\n",
       "      <td>Drama</td>\n",
       "    </tr>\n",
       "    <tr>\n",
       "      <th>39</th>\n",
       "      <td>Cry, the Beloved Country</td>\n",
       "      <td>A South-African preacher goes to search for hi...</td>\n",
       "      <td>18</td>\n",
       "      <td>Drama</td>\n",
       "    </tr>\n",
       "    <tr>\n",
       "      <th>54</th>\n",
       "      <td>Georgia</td>\n",
       "      <td>Sadie looks up to her older sister Georgia, a ...</td>\n",
       "      <td>18</td>\n",
       "      <td>Drama</td>\n",
       "    </tr>\n",
       "  </tbody>\n",
       "</table>\n",
       "</div>"
      ],
      "text/plain": [
       "                          title  \\\n",
       "4   Father of the Bride Part II   \n",
       "25                      Othello   \n",
       "35             Dead Man Walking   \n",
       "39     Cry, the Beloved Country   \n",
       "54                      Georgia   \n",
       "\n",
       "                                             overview  genre_id genre_name  \n",
       "4   Just when George Banks has recovered from his ...        35     Comedy  \n",
       "25  The evil Iago pretends to be friend of Othello...        18      Drama  \n",
       "35  A justice drama based on a true story about a ...        18      Drama  \n",
       "39  A South-African preacher goes to search for hi...        18      Drama  \n",
       "54  Sadie looks up to her older sister Georgia, a ...        18      Drama  "
      ]
     },
     "execution_count": 2,
     "metadata": {},
     "output_type": "execute_result"
    }
   ],
   "source": [
    "movies, tabla_generos = generar_datos_entrenamiento()\n",
    "print(f\"Número de películas finales: {len(movies)}\")\n",
    "print(f\"Número de géneros: {len(tabla_generos)}\")\n",
    "movies.head()"
   ]
  },
  {
   "cell_type": "markdown",
   "id": "57c1a2e8",
   "metadata": {},
   "source": [
    "### Preprocesamiento del texto con spaCy\n",
    "\n",
    "En esta celda se realiza el preprocesamiento de la columna `overview`, aplicando la función `preprocesar_texto()` definida en `utils.py`. Esta función utiliza **spaCy** para realizar las siguientes tareas sobre cada sinopsis:\n",
    "\n",
    "- Conversión a minúsculas.\n",
    "- Eliminación de puntuación, stopwords, números y caracteres no deseados.\n",
    "- Tokenización y lematización.\n",
    "- Filtrado por categorías gramaticales (solo sustantivos, adjetivos y verbos en infinitivo).\n",
    "- Generación de una lista limpia de tokens por cada película.\n",
    "\n",
    "El resultado se almacena en una nueva columna llamada `Overview_procesado`, que contiene listas de palabras ya listas para ser usadas en el modelado.\n",
    "\n",
    "> ⚠️ **Advertencia:** esta celda puede tardar varios minutos en ejecutarse, ya que el procesamiento con spaCy se realiza sin vectorización previa, sobre miles de registros.\n",
    "\n",
    "Para evitar repetir este paso innecesariamente, los resultados se guardan en el archivo `movies_procesado.csv`.  \n",
    "**Si ya está ese archivo, no se recomienda volver a ejecutar esta celda.**  \n",
    "En su lugar, pasar directamente a la siguiente celda, donde se carga el CSV y se retransforma la columna `Overview_procesado` para recuperar su estructura de lista.\n"
   ]
  },
  {
   "cell_type": "code",
   "execution_count": null,
   "id": "6d505a98",
   "metadata": {},
   "outputs": [],
   "source": [
    "movies['Overview_procesado'] = movies['overview'].apply(preprocesar_texto)\n",
    "movies.to_csv(\"movies_procesado.csv\", index=False, encoding='utf-8')"
   ]
  },
  {
   "cell_type": "markdown",
   "id": "3f73f75c",
   "metadata": {},
   "source": [
    "### Carga de datos preprocesados y limpieza adicional\n",
    "\n",
    "En esta celda se carga el archivo `movies_procesado.csv`, previamente generado tras aplicar el preprocesamiento con spaCy. Este archivo contiene una columna llamada `Overview_procesado` que, al momento de guardarse, quedó almacenada como una cadena de texto con formato de lista.\n",
    "\n",
    "Para recuperar la estructura original de listas de palabras, se realiza lo siguiente:\n",
    "\n",
    "1. **Conversión con `ast.literal_eval`**: esta función transforma el texto que representa una lista (ej. `\"['film', 'drama']\"`) nuevamente en una lista Python real (`['film', 'drama']`).\n",
    "2. **Limpieza adicional de palabras**: se aplica la función `limpiar_palabra()` sobre cada token para eliminar residuos de puntuación u otros caracteres especiales que hayan quedado en el proceso anterior.\n",
    "\n",
    "> ✅ Esta celda permite continuar el flujo de trabajo sin necesidad de reprocesar todo el texto desde cero, ahorrando tiempo y recursos computacionales.\n"
   ]
  },
  {
   "cell_type": "code",
   "execution_count": 3,
   "id": "da2e4cf7",
   "metadata": {},
   "outputs": [
    {
     "data": {
      "image/png": "[encoded data removed]",
      "text/plain": [
       "<Figure size 1000x600 with 1 Axes>"
      ]
     },
     "metadata": {},
     "output_type": "display_data"
    }
   ],
   "source": [
    "movies = pd.read_csv(\"movies_procesado.csv\")\n",
    "movies['Overview_procesado'] = movies['Overview_procesado'].apply(ast.literal_eval)\n",
    "# Aplicar limpieza a cada lista de palabras\n",
    "movies['Overview_procesado'] = movies['Overview_procesado'].apply(\n",
    "    lambda lista: [limpiar_palabra(palabra) for palabra in lista]\n",
    ")\n",
    "movies.head()\n",
    "graficar_frecuencia_generos(movies)"
   ]
  },
  {
   "cell_type": "markdown",
   "id": "9613c80e",
   "metadata": {},
   "source": [
    "### Definición de variable objetivo y partición del conjunto de datos\n",
    "\n",
    "En esta celda se prepara el conjunto de datos para el entrenamiento del modelo supervisado:\n",
    "\n",
    "1. **Creación de la variable `y_real`**: se define una variable binaria que indica si una película pertenece al género *Drama* (`genre_id == 18`). Si es así, `y_real` toma el valor `1`; en caso contrario, `0`.\n",
    "\n",
    "2. **Selección de columnas relevantes**: se crea el DataFrame `datos` con únicamente dos columnas: `Overview_procesado` (lista de palabras de la sinopsis preprocesada) y `y_real`.\n",
    "\n",
    "3. **Partición del dataset**:\n",
    "   - Se utiliza `train_test_split` para dividir los datos en dos subconjuntos:\n",
    "     - 70% para entrenamiento (`movies_train`)\n",
    "     - 30% para validación (`movies_val`)\n",
    "   - Se emplea `stratify` sobre `y_real` para asegurar que la proporción de clases (Drama vs. no Drama) se mantenga en ambas particiones.\n",
    "\n",
    "4. **Conversión a listas para modelado**:\n",
    "   - `documentos`: lista de sinopsis del conjunto de entrenamiento, cada una como lista de tokens.\n",
    "   - `genero`: lista de etiquetas binarias (`y_real`) correspondientes a cada sinopsis.\n"
   ]
  },
  {
   "cell_type": "code",
   "execution_count": 4,
   "id": "8ccbf884",
   "metadata": {},
   "outputs": [],
   "source": [
    "movies['y_real'] = movies['genre_id'].apply(lambda x: 1 if x == 18 else 0)\n",
    "datos = movies[['Overview_procesado', 'y_real']].dropna()\n",
    "movies_train, movies_val = train_test_split(\n",
    "    datos,\n",
    "    test_size=0.3,\n",
    "    random_state=42,\n",
    "    stratify=movies['y_real'] \n",
    ")\n",
    "documentos = movies_train.Overview_procesado.tolist()\n",
    "genero = movies_train.y_real.tolist()"
   ]
  },
  {
   "cell_type": "markdown",
   "id": "3b0cbe0a",
   "metadata": {},
   "source": [
    "### Entrenamiento y análisis del modelo supervisado S-LDA (binario)\n",
    "\n",
    "En esta celda se realiza el entrenamiento y análisis de un modelo **Supervised Latent Dirichlet Allocation (sLDA)** para la tarea de clasificación binaria (*Drama* vs. *no Drama*) a partir de las sinopsis preprocesadas de las películas. El flujo de trabajo es el siguiente:\n",
    "\n",
    "1. **Inicialización del modelo**:\n",
    "   - Se crea una instancia de `SLDAModel` de la librería `tomotopy` con los siguientes parámetros:\n",
    "     - `k=10`: número de tópicos latentes a aprender.\n",
    "     - `seed=123`: semilla para asegurar reproducibilidad.\n",
    "     - `vars='b'`: especifica que la variable objetivo es binaria.\n",
    "\n",
    "2. **Adición de documentos**:\n",
    "   - Se agregan los documentos de entrenamiento (`documentos`), junto con sus etiquetas binarias (`genero`), al modelo mediante el método `add_doc()`.\n",
    "\n",
    "3. **Entrenamiento**:\n",
    "   - El modelo se entrena durante 2000 iteraciones usando el método `train()`, aprendiendo simultáneamente la estructura temática de los textos y la relación de los tópicos con la variable objetivo.\n",
    "\n",
    "4. **Exploración de los tópicos aprendidos**:\n",
    "   - Se imprime el top 5 de palabras más representativas para cada uno de los 10 tópicos, lo que permite interpretar los temas latentes descubiertos por el modelo.\n",
    "\n",
    "5. **Análisis de los coeficientes de regresión**:\n",
    "   - Se extraen e imprimen los coeficientes de regresión asociados a cada tópico, que indican la influencia de cada tema en la predicción de la clase positiva (*Drama*).\n",
    "\n",
    "6. **Predicción sobre un ejemplo de validación**:\n",
    "   - Se selecciona un documento del conjunto de validación y se transforma al formato requerido por el modelo.\n",
    "   - Se imprime la sinopsis procesada, la etiqueta real y la distribución de tópicos inferida para ese documento.\n",
    "   - Se estima la probabilidad de que el documento pertenezca al género *Drama* y se imprime la predicción junto con la probabilidad calculada.\n",
    "\n",
    "\n"
   ]
  },
  {
   "cell_type": "code",
   "execution_count": 5,
   "id": "1f88bd07",
   "metadata": {},
   "outputs": [
    {
     "name": "stderr",
     "output_type": "stream",
     "text": [
      "C:\\Users\\jlvar\\AppData\\Local\\Temp\\ipykernel_38640\\3270540886.py:11: RuntimeWarning: The training result may differ even with fixed seed if `workers` != 1.\n",
      "  modelo_binario.train(2000)\n"
     ]
    },
    {
     "name": "stdout",
     "output_type": "stream",
     "text": [
      "\n",
      "Temas Aprendidos:\n",
      "Tema #0: [('murder', 0.02151600457727909), ('kill', 0.015862708911299706), ('man', 0.01569804921746254), ('find', 0.014984527602791786), ('police', 0.013941685669124126)]\n",
      "Tema #1: [('woman', 0.03517749533057213), ('love', 0.03171563893556595), ('young', 0.025796979665756226), ('man', 0.016863154247403145), ('fall', 0.016193117946386337)]\n",
      "Tema #2: [('life', 0.037837643176317215), ('story', 0.01907639019191265), ('world', 0.016636114567518234), ('man', 0.015140462666749954), ('people', 0.008554344065487385)]\n",
      "Tema #3: [('friend', 0.012114287354052067), ('find', 0.011735724285244942), ('way', 0.009413867257535458), ('money', 0.008934353478252888), ('job', 0.008732452988624573)]\n",
      "Tema #4: [('war', 0.025239743292331696), ('american', 0.011306805536150932), ('country', 0.00942243356257677), ('political', 0.007994878105819225), ('story', 0.007309651933610439)]\n",
      "Tema #5: [('comedy', 0.020837005227804184), ('star', 0.015233933925628662), ('play', 0.014825375750660896), ('team', 0.014066626317799091), ('special', 0.013016050681471825)]\n",
      "Tema #6: [('school', 0.06828685849905014), ('student', 0.03765789419412613), ('high', 0.03083980083465576), ('college', 0.02087489701807499), ('girl', 0.018147660419344902)]\n",
      "Tema #7: [('find', 0.010606608353555202), ('earth', 0.008508086204528809), ('island', 0.008394652977585793), ('group', 0.007827484980225563), ('evil', 0.007543900981545448)]\n",
      "Tema #8: [('family', 0.02975849062204361), ('old', 0.027422331273555756), ('year', 0.026838291436433792), ('young', 0.022972505539655685), ('father', 0.020469479262828827)]\n",
      "Tema #9: [('film', 0.06079094111919403), ('documentary', 0.021651342511177063), ('story', 0.01320215966552496), ('movie', 0.011586874723434448), ('life', 0.009567768312990665)]\n",
      "\n",
      "Coeficientes de Regresión para Sentimiento (Log-Odds):\n",
      "Tema #0: -2.3356\n",
      "Tema #1: 2.1480\n",
      "Tema #2: 1.7118\n",
      "Tema #3: -2.4138\n",
      "Tema #4: 0.2644\n",
      "Tema #5: -3.5474\n",
      "Tema #6: -0.4089\n",
      "Tema #7: -6.1410\n",
      "Tema #8: 2.3261\n",
      "Tema #9: -2.9239\n",
      "Documento de prueba: <tomotopy.Document with words=\"base novel revolutionary priest priest fugitive try getaway authority denounce christianity want link dead fugitive find shelter indian woman woman faithful parishioner give priest direction grande board ship sail freedom journey grande meet man say protect reality police informer fugitive realize run police informer authority\">\n",
      "Género real: 0\n",
      "Distribución de los temas [0.2702535  0.02711882 0.17647511 0.07535569 0.16868097 0.00593626\n",
      " 0.08457669 0.08716433 0.03330955 0.07112908]\n",
      "Predicción: Género 18 (negativo)  [0.2382948]\n"
     ]
    }
   ],
   "source": [
    "# Entrenamiento y análisis del modelo supervisado S-LDA (binario)\n",
    "\n",
    "# 1. Inicialización del modelo S-LDA para clasificación binaria (Drama vs. no Drama)\n",
    "modelo_binario = tp.SLDAModel(k=10, seed=123, vars='b')\n",
    "\n",
    "# 2. Adición de documentos de entrenamiento y sus etiquetas binarias al modelo\n",
    "for i in range(len(documentos)):\n",
    "    modelo_binario.add_doc(words=documentos[i], y=[genero[i]])\n",
    "\n",
    "# 3. Entrenamiento del modelo durante 2000 iteraciones\n",
    "modelo_binario.train(2000)\n",
    "\n",
    "# 4. Impresión de los 5 términos más representativos de cada uno de los 10 tópicos aprendidos\n",
    "print(\"\\nTemas Aprendidos:\")\n",
    "for k in range(modelo_binario.k):\n",
    "    print(f\"Tema #{k}: {modelo_binario.get_topic_words(k, top_n=5)}\")\n",
    "\n",
    "# 5. Extracción e impresión de los coeficientes de regresión (log-odds) para cada tópico,\n",
    "#    que indican su influencia en la predicción de la clase positiva (Drama)\n",
    "coeficientes_regresion_binario = modelo_binario.get_regression_coef(0)\n",
    "print(\"\\nCoeficientes de Regresión para Sentimiento (Log-Odds):\")\n",
    "for i, coef in enumerate(coeficientes_regresion_binario):\n",
    "    print(f\"Tema #{i}: {coef:.4f}\")\n",
    "\n",
    "# 6. Ejemplo de predicción sobre un documento del conjunto de validación:\n",
    "#    - Se transforma la sinopsis procesada al formato requerido por el modelo\n",
    "#    - Se imprime la sinopsis, la etiqueta real, la distribución de tópicos inferida\n",
    "#    - Se estima la probabilidad de pertenecer al género Drama y se imprime la predicción\n",
    "exa = 0\n",
    "doc_inst = modelo_binario.make_doc(movies_val.Overview_procesado.iloc[exa])\n",
    "print(\"Documento de prueba:\", doc_inst)\n",
    "print(\"Género real:\", movies_val.y_real.iloc[exa])\n",
    "topic_dist, _ = modelo_binario.infer(doc_inst)\n",
    "print(\"Distribución de los temas\", topic_dist)\n",
    "prob_dist = modelo_binario.estimate(doc_inst)\n",
    "if prob_dist > 0.5:\n",
    "    print(\"Predicción: Género 18 (positivo) \", prob_dist)\n",
    "else:\n",
    "    print(\"Predicción: Género 18 (negativo) \", prob_dist)"
   ]
  },
  {
   "cell_type": "markdown",
   "id": "cf0c258d",
   "metadata": {},
   "source": [
    "### Validación cruzada para selección del número óptimo de tópicos (k)\n",
    "\n",
    "En esta celda se ejecuta una validación cruzada de 5 folds para determinar el número óptimo de tópicos (`k`) que debe tener el modelo sLDA. Para ello:\n",
    "\n",
    "1. Se define un rango de valores posibles para `k`, desde 10 hasta 20.\n",
    "2. Para cada valor de `k`:\n",
    "   - Se entrena un modelo sLDA con `k` tópicos usando solo el conjunto de entrenamiento.\n",
    "   - Se realiza una validación cruzada de 5 pliegues:\n",
    "     - En cada pliegue, se entrena el modelo sobre el 80% de los datos y se evalúa sobre el 20% restante.\n",
    "     - Se extraen los embeddings temáticos (distribuciones de tópicos).\n",
    "     - Se entrena un clasificador (regresión logística) y se mide la precisión (`accuracy`) en cada pliegue.\n",
    "   - Se calcula el promedio de accuracy de los 5 folds y se guarda en un diccionario.\n",
    "\n",
    "Este proceso permite comparar el desempeño de modelos con diferentes cantidades de tópicos y seleccionar el valor de `k` que ofrece mejor capacidad predictiva.  \n",
    "El resultado de cada evaluación se imprime en pantalla junto con la precisión promedio correspondiente.\n",
    "\n"
   ]
  },
  {
   "cell_type": "code",
   "execution_count": null,
   "id": "ea8e2076",
   "metadata": {},
   "outputs": [],
   "source": [
    "\n",
    "\n"
   ]
  },
  {
   "cell_type": "markdown",
   "id": "2847e471",
   "metadata": {},
   "source": [
    "### Evaluación de modelos sLDA para diferentes valores de k\n",
    "\n",
    "En esta celda se realiza una validación cruzada con 5 *folds* para determinar cuál es el número óptimo de temas (`k`) para el modelo sLDA. Se prueba con valores de `k` desde 10 hasta 20.\n",
    "\n",
    "Para cada valor de `k`, se entrena un modelo sLDA con los documentos de entrenamiento y se evalúa su capacidad para predecir la etiqueta binaria (`y_real`) usando un clasificador de regresión logística sobre las distribuciones de temas aprendidas. El rendimiento se mide en términos de **accuracy promedio** en los 5 *folds*.\n",
    "\n",
    "Este procedimiento permite seleccionar el valor de `k` que maximiza el desempeño predictivo del modelo.\n"
   ]
  },
  {
   "cell_type": "code",
   "execution_count": 61,
   "id": "bdafcc1f",
   "metadata": {},
   "outputs": [
    {
     "name": "stdout",
     "output_type": "stream",
     "text": [
      "Evaluando k=10...\n",
      "Entrenando modelo con 7912 documentos (fold 1)\n"
     ]
    },
    {
     "name": "stderr",
     "output_type": "stream",
     "text": [
      "C:\\Users\\jlvar\\AppData\\Local\\Temp\\ipykernel_38640\\4070515058.py:47: RuntimeWarning: The training result may differ even with fixed seed if `workers` != 1.\n",
      "  modelo.train(iteraciones)\n"
     ]
    },
    {
     "name": "stdout",
     "output_type": "stream",
     "text": [
      "Fold 1 accuracy: 0.7115\n",
      "Entrenando modelo con 7910 documentos (fold 2)\n"
     ]
    },
    {
     "name": "stderr",
     "output_type": "stream",
     "text": [
      "C:\\Users\\jlvar\\AppData\\Local\\Temp\\ipykernel_38640\\4070515058.py:47: RuntimeWarning: The training result may differ even with fixed seed if `workers` != 1.\n",
      "  modelo.train(iteraciones)\n"
     ]
    },
    {
     "name": "stdout",
     "output_type": "stream",
     "text": [
      "Fold 2 accuracy: 0.7128\n",
      "Entrenando modelo con 7909 documentos (fold 3)\n"
     ]
    },
    {
     "name": "stderr",
     "output_type": "stream",
     "text": [
      "C:\\Users\\jlvar\\AppData\\Local\\Temp\\ipykernel_38640\\4070515058.py:47: RuntimeWarning: The training result may differ even with fixed seed if `workers` != 1.\n",
      "  modelo.train(iteraciones)\n"
     ]
    },
    {
     "name": "stdout",
     "output_type": "stream",
     "text": [
      "Fold 3 accuracy: 0.6988\n",
      "Entrenando modelo con 7911 documentos (fold 4)\n"
     ]
    },
    {
     "name": "stderr",
     "output_type": "stream",
     "text": [
      "C:\\Users\\jlvar\\AppData\\Local\\Temp\\ipykernel_38640\\4070515058.py:47: RuntimeWarning: The training result may differ even with fixed seed if `workers` != 1.\n",
      "  modelo.train(iteraciones)\n"
     ]
    },
    {
     "name": "stdout",
     "output_type": "stream",
     "text": [
      "Fold 4 accuracy: 0.7294\n",
      "Entrenando modelo con 7910 documentos (fold 5)\n"
     ]
    },
    {
     "name": "stderr",
     "output_type": "stream",
     "text": [
      "C:\\Users\\jlvar\\AppData\\Local\\Temp\\ipykernel_38640\\4070515058.py:47: RuntimeWarning: The training result may differ even with fixed seed if `workers` != 1.\n",
      "  modelo.train(iteraciones)\n"
     ]
    },
    {
     "name": "stdout",
     "output_type": "stream",
     "text": [
      "Fold 5 accuracy: 0.6866\n",
      "→ k=10, accuracy promedio: 0.7078\n",
      "Evaluando k=11...\n",
      "Entrenando modelo con 7912 documentos (fold 1)\n"
     ]
    },
    {
     "name": "stderr",
     "output_type": "stream",
     "text": [
      "C:\\Users\\jlvar\\AppData\\Local\\Temp\\ipykernel_38640\\4070515058.py:47: RuntimeWarning: The training result may differ even with fixed seed if `workers` != 1.\n",
      "  modelo.train(iteraciones)\n"
     ]
    },
    {
     "name": "stdout",
     "output_type": "stream",
     "text": [
      "Fold 1 accuracy: 0.7196\n",
      "Entrenando modelo con 7910 documentos (fold 2)\n"
     ]
    },
    {
     "name": "stderr",
     "output_type": "stream",
     "text": [
      "C:\\Users\\jlvar\\AppData\\Local\\Temp\\ipykernel_38640\\4070515058.py:47: RuntimeWarning: The training result may differ even with fixed seed if `workers` != 1.\n",
      "  modelo.train(iteraciones)\n"
     ]
    },
    {
     "name": "stdout",
     "output_type": "stream",
     "text": [
      "Fold 2 accuracy: 0.7230\n",
      "Entrenando modelo con 7909 documentos (fold 3)\n"
     ]
    },
    {
     "name": "stderr",
     "output_type": "stream",
     "text": [
      "C:\\Users\\jlvar\\AppData\\Local\\Temp\\ipykernel_38640\\4070515058.py:47: RuntimeWarning: The training result may differ even with fixed seed if `workers` != 1.\n",
      "  modelo.train(iteraciones)\n"
     ]
    },
    {
     "name": "stdout",
     "output_type": "stream",
     "text": [
      "Fold 3 accuracy: 0.6943\n",
      "Entrenando modelo con 7911 documentos (fold 4)\n"
     ]
    },
    {
     "name": "stderr",
     "output_type": "stream",
     "text": [
      "C:\\Users\\jlvar\\AppData\\Local\\Temp\\ipykernel_38640\\4070515058.py:47: RuntimeWarning: The training result may differ even with fixed seed if `workers` != 1.\n",
      "  modelo.train(iteraciones)\n"
     ]
    },
    {
     "name": "stdout",
     "output_type": "stream",
     "text": [
      "Fold 4 accuracy: 0.7132\n",
      "Entrenando modelo con 7910 documentos (fold 5)\n"
     ]
    },
    {
     "name": "stderr",
     "output_type": "stream",
     "text": [
      "C:\\Users\\jlvar\\AppData\\Local\\Temp\\ipykernel_38640\\4070515058.py:47: RuntimeWarning: The training result may differ even with fixed seed if `workers` != 1.\n",
      "  modelo.train(iteraciones)\n"
     ]
    },
    {
     "name": "stdout",
     "output_type": "stream",
     "text": [
      "Fold 5 accuracy: 0.7022\n",
      "→ k=11, accuracy promedio: 0.7105\n",
      "Evaluando k=12...\n",
      "Entrenando modelo con 7912 documentos (fold 1)\n"
     ]
    },
    {
     "name": "stderr",
     "output_type": "stream",
     "text": [
      "C:\\Users\\jlvar\\AppData\\Local\\Temp\\ipykernel_38640\\4070515058.py:47: RuntimeWarning: The training result may differ even with fixed seed if `workers` != 1.\n",
      "  modelo.train(iteraciones)\n"
     ]
    },
    {
     "name": "stdout",
     "output_type": "stream",
     "text": [
      "Fold 1 accuracy: 0.7257\n",
      "Entrenando modelo con 7910 documentos (fold 2)\n"
     ]
    },
    {
     "name": "stderr",
     "output_type": "stream",
     "text": [
      "C:\\Users\\jlvar\\AppData\\Local\\Temp\\ipykernel_38640\\4070515058.py:47: RuntimeWarning: The training result may differ even with fixed seed if `workers` != 1.\n",
      "  modelo.train(iteraciones)\n"
     ]
    },
    {
     "name": "stdout",
     "output_type": "stream",
     "text": [
      "Fold 2 accuracy: 0.7128\n",
      "Entrenando modelo con 7909 documentos (fold 3)\n"
     ]
    },
    {
     "name": "stderr",
     "output_type": "stream",
     "text": [
      "C:\\Users\\jlvar\\AppData\\Local\\Temp\\ipykernel_38640\\4070515058.py:47: RuntimeWarning: The training result may differ even with fixed seed if `workers` != 1.\n",
      "  modelo.train(iteraciones)\n"
     ]
    },
    {
     "name": "stdout",
     "output_type": "stream",
     "text": [
      "Fold 3 accuracy: 0.7115\n",
      "Entrenando modelo con 7911 documentos (fold 4)\n"
     ]
    },
    {
     "name": "stderr",
     "output_type": "stream",
     "text": [
      "C:\\Users\\jlvar\\AppData\\Local\\Temp\\ipykernel_38640\\4070515058.py:47: RuntimeWarning: The training result may differ even with fixed seed if `workers` != 1.\n",
      "  modelo.train(iteraciones)\n"
     ]
    },
    {
     "name": "stdout",
     "output_type": "stream",
     "text": [
      "Fold 4 accuracy: 0.7218\n",
      "Entrenando modelo con 7910 documentos (fold 5)\n"
     ]
    },
    {
     "name": "stderr",
     "output_type": "stream",
     "text": [
      "C:\\Users\\jlvar\\AppData\\Local\\Temp\\ipykernel_38640\\4070515058.py:47: RuntimeWarning: The training result may differ even with fixed seed if `workers` != 1.\n",
      "  modelo.train(iteraciones)\n"
     ]
    },
    {
     "name": "stdout",
     "output_type": "stream",
     "text": [
      "Fold 5 accuracy: 0.7093\n",
      "→ k=12, accuracy promedio: 0.7162\n",
      "Evaluando k=13...\n",
      "Entrenando modelo con 7912 documentos (fold 1)\n"
     ]
    },
    {
     "name": "stderr",
     "output_type": "stream",
     "text": [
      "C:\\Users\\jlvar\\AppData\\Local\\Temp\\ipykernel_38640\\4070515058.py:47: RuntimeWarning: The training result may differ even with fixed seed if `workers` != 1.\n",
      "  modelo.train(iteraciones)\n"
     ]
    },
    {
     "name": "stdout",
     "output_type": "stream",
     "text": [
      "Fold 1 accuracy: 0.7105\n",
      "Entrenando modelo con 7910 documentos (fold 2)\n"
     ]
    },
    {
     "name": "stderr",
     "output_type": "stream",
     "text": [
      "C:\\Users\\jlvar\\AppData\\Local\\Temp\\ipykernel_38640\\4070515058.py:47: RuntimeWarning: The training result may differ even with fixed seed if `workers` != 1.\n",
      "  modelo.train(iteraciones)\n"
     ]
    },
    {
     "name": "stdout",
     "output_type": "stream",
     "text": [
      "Fold 2 accuracy: 0.7078\n",
      "Entrenando modelo con 7909 documentos (fold 3)\n"
     ]
    },
    {
     "name": "stderr",
     "output_type": "stream",
     "text": [
      "C:\\Users\\jlvar\\AppData\\Local\\Temp\\ipykernel_38640\\4070515058.py:47: RuntimeWarning: The training result may differ even with fixed seed if `workers` != 1.\n",
      "  modelo.train(iteraciones)\n"
     ]
    },
    {
     "name": "stdout",
     "output_type": "stream",
     "text": [
      "Fold 3 accuracy: 0.6948\n",
      "Entrenando modelo con 7911 documentos (fold 4)\n"
     ]
    },
    {
     "name": "stderr",
     "output_type": "stream",
     "text": [
      "C:\\Users\\jlvar\\AppData\\Local\\Temp\\ipykernel_38640\\4070515058.py:47: RuntimeWarning: The training result may differ even with fixed seed if `workers` != 1.\n",
      "  modelo.train(iteraciones)\n"
     ]
    },
    {
     "name": "stdout",
     "output_type": "stream",
     "text": [
      "Fold 4 accuracy: 0.7167\n",
      "Entrenando modelo con 7910 documentos (fold 5)\n"
     ]
    },
    {
     "name": "stderr",
     "output_type": "stream",
     "text": [
      "C:\\Users\\jlvar\\AppData\\Local\\Temp\\ipykernel_38640\\4070515058.py:47: RuntimeWarning: The training result may differ even with fixed seed if `workers` != 1.\n",
      "  modelo.train(iteraciones)\n"
     ]
    },
    {
     "name": "stdout",
     "output_type": "stream",
     "text": [
      "Fold 5 accuracy: 0.6906\n",
      "→ k=13, accuracy promedio: 0.7041\n",
      "Evaluando k=14...\n",
      "Entrenando modelo con 7912 documentos (fold 1)\n"
     ]
    },
    {
     "name": "stderr",
     "output_type": "stream",
     "text": [
      "C:\\Users\\jlvar\\AppData\\Local\\Temp\\ipykernel_38640\\4070515058.py:47: RuntimeWarning: The training result may differ even with fixed seed if `workers` != 1.\n",
      "  modelo.train(iteraciones)\n"
     ]
    },
    {
     "name": "stdout",
     "output_type": "stream",
     "text": [
      "Fold 1 accuracy: 0.7161\n",
      "Entrenando modelo con 7910 documentos (fold 2)\n"
     ]
    },
    {
     "name": "stderr",
     "output_type": "stream",
     "text": [
      "C:\\Users\\jlvar\\AppData\\Local\\Temp\\ipykernel_38640\\4070515058.py:47: RuntimeWarning: The training result may differ even with fixed seed if `workers` != 1.\n",
      "  modelo.train(iteraciones)\n"
     ]
    },
    {
     "name": "stdout",
     "output_type": "stream",
     "text": [
      "Fold 2 accuracy: 0.7083\n",
      "Entrenando modelo con 7909 documentos (fold 3)\n"
     ]
    },
    {
     "name": "stderr",
     "output_type": "stream",
     "text": [
      "C:\\Users\\jlvar\\AppData\\Local\\Temp\\ipykernel_38640\\4070515058.py:47: RuntimeWarning: The training result may differ even with fixed seed if `workers` != 1.\n",
      "  modelo.train(iteraciones)\n"
     ]
    },
    {
     "name": "stdout",
     "output_type": "stream",
     "text": [
      "Fold 3 accuracy: 0.7120\n",
      "Entrenando modelo con 7911 documentos (fold 4)\n"
     ]
    },
    {
     "name": "stderr",
     "output_type": "stream",
     "text": [
      "C:\\Users\\jlvar\\AppData\\Local\\Temp\\ipykernel_38640\\4070515058.py:47: RuntimeWarning: The training result may differ even with fixed seed if `workers` != 1.\n",
      "  modelo.train(iteraciones)\n"
     ]
    },
    {
     "name": "stdout",
     "output_type": "stream",
     "text": [
      "Fold 4 accuracy: 0.7218\n",
      "Entrenando modelo con 7910 documentos (fold 5)\n"
     ]
    },
    {
     "name": "stderr",
     "output_type": "stream",
     "text": [
      "C:\\Users\\jlvar\\AppData\\Local\\Temp\\ipykernel_38640\\4070515058.py:47: RuntimeWarning: The training result may differ even with fixed seed if `workers` != 1.\n",
      "  modelo.train(iteraciones)\n"
     ]
    },
    {
     "name": "stdout",
     "output_type": "stream",
     "text": [
      "Fold 5 accuracy: 0.7022\n",
      "→ k=14, accuracy promedio: 0.7121\n",
      "Evaluando k=15...\n",
      "Entrenando modelo con 7912 documentos (fold 1)\n"
     ]
    },
    {
     "name": "stderr",
     "output_type": "stream",
     "text": [
      "C:\\Users\\jlvar\\AppData\\Local\\Temp\\ipykernel_38640\\4070515058.py:47: RuntimeWarning: The training result may differ even with fixed seed if `workers` != 1.\n",
      "  modelo.train(iteraciones)\n"
     ]
    },
    {
     "name": "stdout",
     "output_type": "stream",
     "text": [
      "Fold 1 accuracy: 0.7176\n",
      "Entrenando modelo con 7910 documentos (fold 2)\n"
     ]
    },
    {
     "name": "stderr",
     "output_type": "stream",
     "text": [
      "C:\\Users\\jlvar\\AppData\\Local\\Temp\\ipykernel_38640\\4070515058.py:47: RuntimeWarning: The training result may differ even with fixed seed if `workers` != 1.\n",
      "  modelo.train(iteraciones)\n"
     ]
    },
    {
     "name": "stdout",
     "output_type": "stream",
     "text": [
      "Fold 2 accuracy: 0.7103\n",
      "Entrenando modelo con 7909 documentos (fold 3)\n"
     ]
    },
    {
     "name": "stderr",
     "output_type": "stream",
     "text": [
      "C:\\Users\\jlvar\\AppData\\Local\\Temp\\ipykernel_38640\\4070515058.py:47: RuntimeWarning: The training result may differ even with fixed seed if `workers` != 1.\n",
      "  modelo.train(iteraciones)\n"
     ]
    },
    {
     "name": "stdout",
     "output_type": "stream",
     "text": [
      "Fold 3 accuracy: 0.7014\n",
      "Entrenando modelo con 7911 documentos (fold 4)\n"
     ]
    },
    {
     "name": "stderr",
     "output_type": "stream",
     "text": [
      "C:\\Users\\jlvar\\AppData\\Local\\Temp\\ipykernel_38640\\4070515058.py:47: RuntimeWarning: The training result may differ even with fixed seed if `workers` != 1.\n",
      "  modelo.train(iteraciones)\n"
     ]
    },
    {
     "name": "stdout",
     "output_type": "stream",
     "text": [
      "Fold 4 accuracy: 0.7172\n",
      "Entrenando modelo con 7910 documentos (fold 5)\n"
     ]
    },
    {
     "name": "stderr",
     "output_type": "stream",
     "text": [
      "C:\\Users\\jlvar\\AppData\\Local\\Temp\\ipykernel_38640\\4070515058.py:47: RuntimeWarning: The training result may differ even with fixed seed if `workers` != 1.\n",
      "  modelo.train(iteraciones)\n"
     ]
    },
    {
     "name": "stdout",
     "output_type": "stream",
     "text": [
      "Fold 5 accuracy: 0.7093\n",
      "→ k=15, accuracy promedio: 0.7112\n",
      "Evaluando k=16...\n",
      "Entrenando modelo con 7912 documentos (fold 1)\n"
     ]
    },
    {
     "name": "stderr",
     "output_type": "stream",
     "text": [
      "C:\\Users\\jlvar\\AppData\\Local\\Temp\\ipykernel_38640\\4070515058.py:47: RuntimeWarning: The training result may differ even with fixed seed if `workers` != 1.\n",
      "  modelo.train(iteraciones)\n"
     ]
    },
    {
     "name": "stdout",
     "output_type": "stream",
     "text": [
      "Fold 1 accuracy: 0.7126\n",
      "Entrenando modelo con 7910 documentos (fold 2)\n"
     ]
    },
    {
     "name": "stderr",
     "output_type": "stream",
     "text": [
      "C:\\Users\\jlvar\\AppData\\Local\\Temp\\ipykernel_38640\\4070515058.py:47: RuntimeWarning: The training result may differ even with fixed seed if `workers` != 1.\n",
      "  modelo.train(iteraciones)\n"
     ]
    },
    {
     "name": "stdout",
     "output_type": "stream",
     "text": [
      "Fold 2 accuracy: 0.7149\n",
      "Entrenando modelo con 7909 documentos (fold 3)\n"
     ]
    },
    {
     "name": "stderr",
     "output_type": "stream",
     "text": [
      "C:\\Users\\jlvar\\AppData\\Local\\Temp\\ipykernel_38640\\4070515058.py:47: RuntimeWarning: The training result may differ even with fixed seed if `workers` != 1.\n",
      "  modelo.train(iteraciones)\n"
     ]
    },
    {
     "name": "stdout",
     "output_type": "stream",
     "text": [
      "Fold 3 accuracy: 0.7079\n",
      "Entrenando modelo con 7911 documentos (fold 4)\n"
     ]
    },
    {
     "name": "stderr",
     "output_type": "stream",
     "text": [
      "C:\\Users\\jlvar\\AppData\\Local\\Temp\\ipykernel_38640\\4070515058.py:47: RuntimeWarning: The training result may differ even with fixed seed if `workers` != 1.\n",
      "  modelo.train(iteraciones)\n"
     ]
    },
    {
     "name": "stdout",
     "output_type": "stream",
     "text": [
      "Fold 4 accuracy: 0.7152\n",
      "Entrenando modelo con 7910 documentos (fold 5)\n"
     ]
    },
    {
     "name": "stderr",
     "output_type": "stream",
     "text": [
      "C:\\Users\\jlvar\\AppData\\Local\\Temp\\ipykernel_38640\\4070515058.py:47: RuntimeWarning: The training result may differ even with fixed seed if `workers` != 1.\n",
      "  modelo.train(iteraciones)\n"
     ]
    },
    {
     "name": "stdout",
     "output_type": "stream",
     "text": [
      "Fold 5 accuracy: 0.6997\n",
      "→ k=16, accuracy promedio: 0.7101\n",
      "Evaluando k=17...\n",
      "Entrenando modelo con 7912 documentos (fold 1)\n"
     ]
    },
    {
     "name": "stderr",
     "output_type": "stream",
     "text": [
      "C:\\Users\\jlvar\\AppData\\Local\\Temp\\ipykernel_38640\\4070515058.py:47: RuntimeWarning: The training result may differ even with fixed seed if `workers` != 1.\n",
      "  modelo.train(iteraciones)\n"
     ]
    },
    {
     "name": "stdout",
     "output_type": "stream",
     "text": [
      "Fold 1 accuracy: 0.7115\n",
      "Entrenando modelo con 7910 documentos (fold 2)\n"
     ]
    },
    {
     "name": "stderr",
     "output_type": "stream",
     "text": [
      "C:\\Users\\jlvar\\AppData\\Local\\Temp\\ipykernel_38640\\4070515058.py:47: RuntimeWarning: The training result may differ even with fixed seed if `workers` != 1.\n",
      "  modelo.train(iteraciones)\n"
     ]
    },
    {
     "name": "stdout",
     "output_type": "stream",
     "text": [
      "Fold 2 accuracy: 0.7144\n",
      "Entrenando modelo con 7909 documentos (fold 3)\n"
     ]
    },
    {
     "name": "stderr",
     "output_type": "stream",
     "text": [
      "C:\\Users\\jlvar\\AppData\\Local\\Temp\\ipykernel_38640\\4070515058.py:47: RuntimeWarning: The training result may differ even with fixed seed if `workers` != 1.\n",
      "  modelo.train(iteraciones)\n"
     ]
    },
    {
     "name": "stdout",
     "output_type": "stream",
     "text": [
      "Fold 3 accuracy: 0.7175\n",
      "Entrenando modelo con 7911 documentos (fold 4)\n"
     ]
    },
    {
     "name": "stderr",
     "output_type": "stream",
     "text": [
      "C:\\Users\\jlvar\\AppData\\Local\\Temp\\ipykernel_38640\\4070515058.py:47: RuntimeWarning: The training result may differ even with fixed seed if `workers` != 1.\n",
      "  modelo.train(iteraciones)\n"
     ]
    },
    {
     "name": "stdout",
     "output_type": "stream",
     "text": [
      "Fold 4 accuracy: 0.7203\n",
      "Entrenando modelo con 7910 documentos (fold 5)\n"
     ]
    },
    {
     "name": "stderr",
     "output_type": "stream",
     "text": [
      "C:\\Users\\jlvar\\AppData\\Local\\Temp\\ipykernel_38640\\4070515058.py:47: RuntimeWarning: The training result may differ even with fixed seed if `workers` != 1.\n",
      "  modelo.train(iteraciones)\n"
     ]
    },
    {
     "name": "stdout",
     "output_type": "stream",
     "text": [
      "Fold 5 accuracy: 0.6967\n",
      "→ k=17, accuracy promedio: 0.7121\n",
      "Evaluando k=18...\n",
      "Entrenando modelo con 7912 documentos (fold 1)\n"
     ]
    },
    {
     "name": "stderr",
     "output_type": "stream",
     "text": [
      "C:\\Users\\jlvar\\AppData\\Local\\Temp\\ipykernel_38640\\4070515058.py:47: RuntimeWarning: The training result may differ even with fixed seed if `workers` != 1.\n",
      "  modelo.train(iteraciones)\n"
     ]
    },
    {
     "name": "stdout",
     "output_type": "stream",
     "text": [
      "Fold 1 accuracy: 0.7201\n",
      "Entrenando modelo con 7910 documentos (fold 2)\n"
     ]
    },
    {
     "name": "stderr",
     "output_type": "stream",
     "text": [
      "C:\\Users\\jlvar\\AppData\\Local\\Temp\\ipykernel_38640\\4070515058.py:47: RuntimeWarning: The training result may differ even with fixed seed if `workers` != 1.\n",
      "  modelo.train(iteraciones)\n"
     ]
    },
    {
     "name": "stdout",
     "output_type": "stream",
     "text": [
      "Fold 2 accuracy: 0.7022\n",
      "Entrenando modelo con 7909 documentos (fold 3)\n"
     ]
    },
    {
     "name": "stderr",
     "output_type": "stream",
     "text": [
      "C:\\Users\\jlvar\\AppData\\Local\\Temp\\ipykernel_38640\\4070515058.py:47: RuntimeWarning: The training result may differ even with fixed seed if `workers` != 1.\n",
      "  modelo.train(iteraciones)\n"
     ]
    },
    {
     "name": "stdout",
     "output_type": "stream",
     "text": [
      "Fold 3 accuracy: 0.7069\n",
      "Entrenando modelo con 7911 documentos (fold 4)\n"
     ]
    },
    {
     "name": "stderr",
     "output_type": "stream",
     "text": [
      "C:\\Users\\jlvar\\AppData\\Local\\Temp\\ipykernel_38640\\4070515058.py:47: RuntimeWarning: The training result may differ even with fixed seed if `workers` != 1.\n",
      "  modelo.train(iteraciones)\n"
     ]
    },
    {
     "name": "stdout",
     "output_type": "stream",
     "text": [
      "Fold 4 accuracy: 0.7198\n",
      "Entrenando modelo con 7910 documentos (fold 5)\n"
     ]
    },
    {
     "name": "stderr",
     "output_type": "stream",
     "text": [
      "C:\\Users\\jlvar\\AppData\\Local\\Temp\\ipykernel_38640\\4070515058.py:47: RuntimeWarning: The training result may differ even with fixed seed if `workers` != 1.\n",
      "  modelo.train(iteraciones)\n"
     ]
    },
    {
     "name": "stdout",
     "output_type": "stream",
     "text": [
      "Fold 5 accuracy: 0.7002\n",
      "→ k=18, accuracy promedio: 0.7099\n",
      "Evaluando k=19...\n",
      "Entrenando modelo con 7912 documentos (fold 1)\n"
     ]
    },
    {
     "name": "stderr",
     "output_type": "stream",
     "text": [
      "C:\\Users\\jlvar\\AppData\\Local\\Temp\\ipykernel_38640\\4070515058.py:47: RuntimeWarning: The training result may differ even with fixed seed if `workers` != 1.\n",
      "  modelo.train(iteraciones)\n"
     ]
    },
    {
     "name": "stdout",
     "output_type": "stream",
     "text": [
      "Fold 1 accuracy: 0.7085\n",
      "Entrenando modelo con 7910 documentos (fold 2)\n"
     ]
    },
    {
     "name": "stderr",
     "output_type": "stream",
     "text": [
      "C:\\Users\\jlvar\\AppData\\Local\\Temp\\ipykernel_38640\\4070515058.py:47: RuntimeWarning: The training result may differ even with fixed seed if `workers` != 1.\n",
      "  modelo.train(iteraciones)\n"
     ]
    },
    {
     "name": "stdout",
     "output_type": "stream",
     "text": [
      "Fold 2 accuracy: 0.7245\n",
      "Entrenando modelo con 7909 documentos (fold 3)\n"
     ]
    },
    {
     "name": "stderr",
     "output_type": "stream",
     "text": [
      "C:\\Users\\jlvar\\AppData\\Local\\Temp\\ipykernel_38640\\4070515058.py:47: RuntimeWarning: The training result may differ even with fixed seed if `workers` != 1.\n",
      "  modelo.train(iteraciones)\n"
     ]
    },
    {
     "name": "stdout",
     "output_type": "stream",
     "text": [
      "Fold 3 accuracy: 0.7105\n",
      "Entrenando modelo con 7911 documentos (fold 4)\n"
     ]
    },
    {
     "name": "stderr",
     "output_type": "stream",
     "text": [
      "C:\\Users\\jlvar\\AppData\\Local\\Temp\\ipykernel_38640\\4070515058.py:47: RuntimeWarning: The training result may differ even with fixed seed if `workers` != 1.\n",
      "  modelo.train(iteraciones)\n"
     ]
    },
    {
     "name": "stdout",
     "output_type": "stream",
     "text": [
      "Fold 4 accuracy: 0.7076\n",
      "Entrenando modelo con 7910 documentos (fold 5)\n"
     ]
    },
    {
     "name": "stderr",
     "output_type": "stream",
     "text": [
      "C:\\Users\\jlvar\\AppData\\Local\\Temp\\ipykernel_38640\\4070515058.py:47: RuntimeWarning: The training result may differ even with fixed seed if `workers` != 1.\n",
      "  modelo.train(iteraciones)\n"
     ]
    },
    {
     "name": "stdout",
     "output_type": "stream",
     "text": [
      "Fold 5 accuracy: 0.6941\n",
      "→ k=19, accuracy promedio: 0.7090\n",
      "Evaluando k=20...\n",
      "Entrenando modelo con 7912 documentos (fold 1)\n"
     ]
    },
    {
     "name": "stderr",
     "output_type": "stream",
     "text": [
      "C:\\Users\\jlvar\\AppData\\Local\\Temp\\ipykernel_38640\\4070515058.py:47: RuntimeWarning: The training result may differ even with fixed seed if `workers` != 1.\n",
      "  modelo.train(iteraciones)\n"
     ]
    },
    {
     "name": "stdout",
     "output_type": "stream",
     "text": [
      "Fold 1 accuracy: 0.7151\n",
      "Entrenando modelo con 7910 documentos (fold 2)\n"
     ]
    },
    {
     "name": "stderr",
     "output_type": "stream",
     "text": [
      "C:\\Users\\jlvar\\AppData\\Local\\Temp\\ipykernel_38640\\4070515058.py:47: RuntimeWarning: The training result may differ even with fixed seed if `workers` != 1.\n",
      "  modelo.train(iteraciones)\n"
     ]
    },
    {
     "name": "stdout",
     "output_type": "stream",
     "text": [
      "Fold 2 accuracy: 0.7103\n",
      "Entrenando modelo con 7909 documentos (fold 3)\n"
     ]
    },
    {
     "name": "stderr",
     "output_type": "stream",
     "text": [
      "C:\\Users\\jlvar\\AppData\\Local\\Temp\\ipykernel_38640\\4070515058.py:47: RuntimeWarning: The training result may differ even with fixed seed if `workers` != 1.\n",
      "  modelo.train(iteraciones)\n"
     ]
    },
    {
     "name": "stdout",
     "output_type": "stream",
     "text": [
      "Fold 3 accuracy: 0.7044\n",
      "Entrenando modelo con 7911 documentos (fold 4)\n"
     ]
    },
    {
     "name": "stderr",
     "output_type": "stream",
     "text": [
      "C:\\Users\\jlvar\\AppData\\Local\\Temp\\ipykernel_38640\\4070515058.py:47: RuntimeWarning: The training result may differ even with fixed seed if `workers` != 1.\n",
      "  modelo.train(iteraciones)\n"
     ]
    },
    {
     "name": "stdout",
     "output_type": "stream",
     "text": [
      "Fold 4 accuracy: 0.7107\n",
      "Entrenando modelo con 7910 documentos (fold 5)\n"
     ]
    },
    {
     "name": "stderr",
     "output_type": "stream",
     "text": [
      "C:\\Users\\jlvar\\AppData\\Local\\Temp\\ipykernel_38640\\4070515058.py:47: RuntimeWarning: The training result may differ even with fixed seed if `workers` != 1.\n",
      "  modelo.train(iteraciones)\n"
     ]
    },
    {
     "name": "stdout",
     "output_type": "stream",
     "text": [
      "Fold 5 accuracy: 0.7073\n",
      "→ k=20, accuracy promedio: 0.7095\n"
     ]
    }
   ],
   "source": [
    "valores_k = range(10, 21)\n",
    "resultados_kfold = {}\n",
    "\n",
    "for k in valores_k:\n",
    "    print(f\"Evaluando k={k}...\")\n",
    "    acc = validar_kfold_slda_1(k, documentos, genero, folds=5)\n",
    "    resultados_kfold[k] = acc\n",
    "    print(f\"→ k={k}, accuracy promedio: {acc:.4f}\")"
   ]
  },
  {
   "cell_type": "markdown",
   "id": "da305100",
   "metadata": {},
   "source": [
    "### Entrenamiento final del modelo S-LDA (binario)\n",
    "\n",
    "Con base en los resultados obtenidos mediante validación cruzada, se seleccionó **k = 20** como el número óptimo de temas para el modelo supervisado S-LDA, dado que arrojó el mejor desempeño promedio en términos de accuracy.\n",
    "\n",
    "En esta celda se realiza el entrenamiento final del modelo con todos los datos disponibles del conjunto de entrenamiento (`documentos` y `genero`), utilizando 20 temas. Posteriormente, se imprimen los términos más representativos de cada tema y los coeficientes de regresión asociados, los cuales permiten interpretar la relevancia de cada tópico en la predicción del género **Drama**.\n"
   ]
  },
  {
   "cell_type": "code",
   "execution_count": null,
   "id": "8d54a59a",
   "metadata": {},
   "outputs": [
    {
     "name": "stdout",
     "output_type": "stream",
     "text": [
      "\n",
      "Temas Aprendidos:\n",
      "Tema #0: [('music', 0.032103586941957474), ('band', 0.026106541976332664), ('rock', 0.0176401287317276), ('singer', 0.016052676364779472), ('musician', 0.013583304360508919)]\n",
      "Tema #1: [('friend', 0.02215372771024704), ('find', 0.016606321558356285), ('day', 0.015844913199543953), ('time', 0.013995777815580368), ('night', 0.012074127793312073)]\n",
      "Tema #2: [('earth', 0.020057830959558487), ('world', 0.01414191909134388), ('ship', 0.01327617559581995), ('space', 0.012121850624680519), ('crew', 0.011688979342579842)]\n",
      "Tema #3: [('team', 0.03696401044726372), ('game', 0.02876553125679493), ('world', 0.017787910997867584), ('player', 0.017787910997867584), ('win', 0.017509998753666878)]\n",
      "Tema #4: [('family', 0.036268819123506546), ('year', 0.027874337509274483), ('young', 0.027515599504113197), ('old', 0.02697749063372612), ('father', 0.026403509080410004)]\n",
      "Tema #5: [('find', 0.014733745716512203), ('woman', 0.014465875923633575), ('evil', 0.013215815648436546), ('young', 0.012680075131356716), ('mysterious', 0.011876464821398258)]\n",
      "Tema #6: [('war', 0.036940574645996094), ('american', 0.015526264905929565), ('political', 0.01204644050449133), ('country', 0.011064951308071613), ('soldier', 0.01052959356456995)]\n",
      "Tema #7: [('king', 0.03892391920089722), ('monk', 0.015139720402657986), ('queen', 0.010815322399139404), ('wine', 0.010815322399139404), ('die', 0.0069233630783855915)]\n",
      "Tema #8: [('life', 0.04335879161953926), ('story', 0.024420248344540596), ('man', 0.01690642163157463), ('world', 0.014935581013560295), ('face', 0.01000848039984703)]\n",
      "Tema #9: [('doctor', 0.028232380747795105), ('drug', 0.024678904563188553), ('hospital', 0.02211250364780426), ('child', 0.015992624685168266), ('patient', 0.015400378964841366)]\n",
      "Tema #10: [('park', 0.011237110011279583), ('club', 0.011237110011279583), ('man', 0.010998073033988476), ('restaurant', 0.010759036056697369), ('work', 0.010041926987469196)]\n",
      "Tema #11: [('love', 0.04930417984724045), ('woman', 0.03971744701266289), ('fall', 0.027685118839144707), ('young', 0.02210915833711624), ('marriage', 0.019957035779953003)]\n",
      "Tema #12: [('school', 0.08851907402276993), ('student', 0.048815276473760605), ('high', 0.040792934596538544), ('girl', 0.02692379802465439), ('teacher', 0.025292135775089264)]\n",
      "Tema #13: [('film', 0.054334040731191635), ('show', 0.011352320201694965), ('black', 0.009838879108428955), ('image', 0.009536190889775753), ('shoot', 0.008628126233816147)]\n",
      "Tema #14: [('money', 0.019855644553899765), ('work', 0.017768604680895805), ('job', 0.012635614722967148), ('company', 0.011451078578829765), ('business', 0.01116904616355896)]\n",
      "Tema #15: [('town', 0.0288457740098238), ('small', 0.022011106833815575), ('village', 0.02166358008980751), ('local', 0.014713071286678314), ('mountain', 0.014249704778194427)]\n",
      "Tema #16: [('comedy', 0.04181767255067825), ('stand', 0.02855553664267063), ('special', 0.02530766651034355), ('new', 0.014887421391904354), ('hilarious', 0.01123356819152832)]\n",
      "Tema #17: [('film', 0.03056204505264759), ('documentary', 0.02963733859360218), ('world', 0.015258136205375195), ('life', 0.014564606361091137), ('history', 0.012067895382642746)]\n",
      "Tema #18: [('murder', 0.02162385918200016), ('police', 0.01749204285442829), ('man', 0.015839315950870514), ('find', 0.015563861466944218), ('kill', 0.01535727083683014)]\n",
      "Tema #19: [('film', 0.09242133796215057), ('movie', 0.03205713629722595), ('play', 0.02278551086783409), ('story', 0.02199643664062023), ('star', 0.021305996924638748)]\n",
      "\n",
      "Coeficientes de Regresión para Sentimiento (Log-Odds):\n",
      "Tema #0: -0.8414\n",
      "Tema #1: -2.1245\n",
      "Tema #2: -4.2446\n",
      "Tema #3: -1.4057\n",
      "Tema #4: 2.8985\n",
      "Tema #5: -6.3400\n",
      "Tema #6: 0.3690\n",
      "Tema #7: -1.7530\n",
      "Tema #8: 2.6301\n",
      "Tema #9: 1.5299\n",
      "Tema #10: -0.9696\n",
      "Tema #11: 1.7973\n",
      "Tema #12: -0.1990\n",
      "Tema #13: -1.5148\n",
      "Tema #14: -1.6998\n",
      "Tema #15: -0.3915\n",
      "Tema #16: -6.4694\n",
      "Tema #17: -5.0263\n",
      "Tema #18: -2.2897\n",
      "Tema #19: -0.0474\n",
      "Documento de prueba: <tomotopy.Document with words=\"base novel revolutionary priest priest fugitive try getaway authority denounce christianity want link dead fugitive find shelter indian woman woman faithful parishioner give priest direction grande board ship sail freedom journey grande meet man say protect reality police informer fugitive realize run police informer authority\">\n",
      "Género real: 0\n",
      "Distribución de los temas [0.00203889 0.11195484 0.082974   0.00252083 0.03075043 0.20586106\n",
      " 0.06474508 0.02075497 0.15415674 0.00203574 0.0015312  0.00404495\n",
      " 0.00281381 0.02255312 0.02695163 0.0034476  0.00248974 0.00717399\n",
      " 0.18692477 0.06427661]\n",
      "Predicción: Género 18 (negativo)  [0.10952453]\n"
     ]
    },
    {
     "name": "stderr",
     "output_type": "stream",
     "text": [
      "C:\\Users\\jlvar\\AppData\\Local\\Temp\\ipykernel_38640\\1996304035.py:11: RuntimeWarning: The training result may differ even with fixed seed if `workers` != 1.\n",
      "  modelo_binario.train(5000)\n"
     ]
    }
   ],
   "source": [
    "# Entrenamiento y análisis del modelo supervisado S-LDA (binario)\n",
    "\n",
    "# 1. Inicialización del modelo S-LDA para clasificación binaria (Drama vs. no Drama)\n",
    "modelo_binario = tp.SLDAModel(k=20, seed=123, vars='b')\n",
    "\n",
    "# 2. Adición de documentos de entrenamiento y sus etiquetas binarias al modelo\n",
    "for i in range(len(documentos)):\n",
    "    modelo_binario.add_doc(words=documentos[i], y=[genero[i]])\n",
    "\n",
    "# 3. Entrenamiento del modelo durante 2000 iteraciones\n",
    "modelo_binario.train(5000)\n",
    "\n",
    "# 4. Impresión de los 5 términos más representativos de cada uno de los 10 tópicos aprendidos\n",
    "print(\"\\nTemas Aprendidos:\")\n",
    "for k in range(modelo_binario.k):\n",
    "    print(f\"Tema #{k}: {modelo_binario.get_topic_words(k, top_n=5)}\")\n",
    "\n",
    "# 5. Extracción e impresión de los coeficientes de regresión (log-odds) para cada tópico,\n",
    "#    que indican su influencia en la predicción de la clase positiva (Drama)\n",
    "coeficientes_regresion_binario = modelo_binario.get_regression_coef(0)\n",
    "print(\"\\nCoeficientes de Regresión para Sentimiento (Log-Odds):\")\n",
    "for i, coef in enumerate(coeficientes_regresion_binario):\n",
    "    print(f\"Tema #{i}: {coef:.4f}\")\n",
    "\n"
   ]
  },
  {
   "cell_type": "markdown",
   "id": "1a756bca",
   "metadata": {},
   "source": []
  },
  {
   "cell_type": "markdown",
   "id": "9e63d948",
   "metadata": {},
   "source": [
    "### Película de Ejemplo 1\n",
    "\n",
    "**Título:** The Love Guru  \n",
    "**Género:** Comedy  \n",
    "**Overview:**  \n",
    "Born in America and raised in an Indian ashram, Pitka (Mike Myers) returns to his native land to seek his fortune as a spiritualist and self-help expert. His skills are put to the test when he must get a brokenhearted hockey player's marriage back on track in time for the man to help his team win the Stanley Cup.  \n",
    "\n",
    "🔗 [Ver en Rotten Tomatoes](https://www.rottentomatoes.com/m/love_guru)\n",
    "\n",
    "                  "
   ]
  },
  {
   "cell_type": "code",
   "execution_count": 63,
   "id": "867f1168",
   "metadata": {},
   "outputs": [
    {
     "name": "stdout",
     "output_type": "stream",
     "text": [
      "Documento de prueba: <tomotopy.Document with words=\"bear raise return native land seek fortune spiritualist self help expert skill test brokenhearted hockey player marriage track time man help team win cup\">\n",
      "Distribución de los temas [0.00353721 0.1592332  0.00397401 0.24932952 0.08834171 0.00720445\n",
      " 0.00734296 0.00101339 0.16246046 0.00353173 0.00265643 0.0420112\n",
      " 0.03987534 0.03912671 0.08175128 0.07596862 0.00431937 0.01244593\n",
      " 0.00934621 0.00653023]\n",
      "Predicción: Género 18 (negativo)  [0.4365993]\n"
     ]
    }
   ],
   "source": [
    "overview_1 = \"Born in America and raised in an Indian ashram, Pitka (Mike Myers) returns to his native land to seek his fortune as a spiritualist and self-help expert. His skills are put to the test when he must get a brokenhearted hockey player's marriage back on track in time for the man to help his team win the Stanley Cup.\"\n",
    "overview_1 = preprocesar_texto(overview_1)\n",
    "doc_inst_1 = modelo_binario.make_doc(overview_1)\n",
    "print(\"Documento de prueba:\", doc_inst_1)\n",
    "topic_dist_1, _ = modelo_binario.infer(doc_inst_1)\n",
    "print(\"Distribución de los temas\", topic_dist_1)\n",
    "prob_dist_1 = modelo_binario.estimate(doc_inst_1)\n",
    "if prob_dist_1 > 0.5:\n",
    "    print(\"Predicción: Género 18 (positivo) \", prob_dist_1)\n",
    "else:\n",
    "    print(\"Predicción: Género 18 (negativo) \", prob_dist_1)\n",
    "    "
   ]
  },
  {
   "cell_type": "markdown",
   "id": "a180d54c",
   "metadata": {},
   "source": [
    "### Película de Ejemplo 2\n",
    "\n",
    "**Título:** Peppa Meets the Baby  \n",
    "**Género:** Animation \n",
    "**Overview:**  \n",
    "PIG changes are coming! Join Peppa Pig and her family at the cinema as they get ready for their biggest adventure yet: welcoming a new BABY! There's no better time to embark on a full house renovation, shop for a new car and make special memories together. Celebrate the beginning of an exciting new era of Peppa Pig at this special, big screen experience with an hour of laughter, tears and loads of heartwarming moments. With 10 oinktastic new episodes, 6 brand new songs and music videos, your little ones can dance and sing along with Peppa and her family and friends. The wait is finally over... join Peppa and George as they meet their new baby sibling for the first time at Peppa Meets the Baby Cinema Experience!  \n",
    "\n",
    "🔗 [Ver en Rotten Tomatoes](https://www.rottentomatoes.com/m/peppa_meets_the_baby)\n"
   ]
  },
  {
   "cell_type": "code",
   "execution_count": 64,
   "id": "ce22dd88",
   "metadata": {},
   "outputs": [
    {
     "name": "stdout",
     "output_type": "stream",
     "text": [
      "Documento de prueba: <tomotopy.Document with words=\"pig change come family cinema ready big adventure welcome new baby well time embark house renovation shop new car special memory celebrate beginning exciting new era pig special big screen experience hour laughter tear load heartwarming moment new episode brand new song music video little one dance sing family friend wait join meet new baby sible time meet baby cinema experience\">\n",
      "Distribución de los temas [0.12353628 0.28288066 0.00173177 0.00190577 0.12999316 0.01838887\n",
      " 0.00319987 0.00044161 0.19279088 0.00153904 0.0011576  0.00305802\n",
      " 0.00212727 0.00180103 0.00512635 0.04835449 0.07812906 0.03592233\n",
      " 0.00407283 0.06384313]\n",
      "Predicción: Género 18 (negativo)  [0.34049347]\n"
     ]
    }
   ],
   "source": [
    "overview_2 = \"PIG changes are coming! Join Peppa Pig and her family at the cinema as they get ready for their biggest adventure yet: welcoming a new BABY! There's no better time to embark on a full house renovation, shop for a new car and make special memories together. Celebrate the beginning of an exciting new era of Peppa Pig at this special, big screen experience with an hour of laughter, tears and loads of heartwarming moments. With 10 oinktastic new episodes, 6 brand new songs and music videos, your little ones can dance and sing along with Peppa and her family and friends. The wait is finally over... join Peppa and George as they meet their new baby sibling for the first time at Peppa Meets the Baby Cinema Experience!\"\n",
    "overview_2 = preprocesar_texto(overview_2)\n",
    "doc_inst_2 = modelo_binario.make_doc(overview_2)\n",
    "print(\"Documento de prueba:\", doc_inst_2)\n",
    "topic_dist_2, _ = modelo_binario.infer(doc_inst_2)\n",
    "print(\"Distribución de los temas\", topic_dist_2)\n",
    "prob_dist_2 = modelo_binario.estimate(doc_inst_2)\n",
    "if prob_dist_2 > 0.5:\n",
    "    print(\"Predicción: Género 18 (positivo) \", prob_dist_2)\n",
    "else:\n",
    "    print(\"Predicción: Género 18 (negativo) \", prob_dist_2)\n",
    "    "
   ]
  },
  {
   "cell_type": "markdown",
   "id": "2c5bb655",
   "metadata": {},
   "source": [
    "### Película de Ejemplo 3\n",
    "\n",
    "**Título:** Manchester by the Sea  \n",
    "**Género:** Drama  \n",
    "**Overview:**  \n",
    "After the sudden death of his brother, Lee Chandler is shocked to learn that he has been made the legal guardian of his teenage nephew. Returning to his hometown in Massachusetts, Lee is forced to confront a past that separated him from his family and the community where he was born and raised.  \n",
    "\n",
    "🔗 [Ver en Rotten Tomatoes](https://www.rottentomatoes.com/m/manchester_by_the_sea)\n"
   ]
  },
  {
   "cell_type": "code",
   "execution_count": 65,
   "id": "425e7ad0",
   "metadata": {},
   "outputs": [
    {
     "name": "stdout",
     "output_type": "stream",
     "text": [
      "Documento de prueba: <tomotopy.Document with words=\"death old brother shock sole guardian teenage nephew patrick take leave job janitor return manchester sea fishing village working class family live generation force deal past separate wife community bear raise\">\n",
      "Distribución de los temas [0.00284124 0.0435774  0.00319209 0.00351282 0.57691115 0.03389533\n",
      " 0.00589817 0.000814   0.04616967 0.08716208 0.00213375 0.00563671\n",
      " 0.03202951 0.00331976 0.00944915 0.11723795 0.0034695  0.00999708\n",
      " 0.00750726 0.00524535]\n",
      "Predicción: Género 18 (positivo)  [0.85482067]\n"
     ]
    }
   ],
   "source": [
    "overview_3 = \"After the death of his older brother Joe, Lee Chandler (Casey Affleck) is shocked that Joe has made him sole guardian of his teenage nephew Patrick. Taking leave of his job as a janitor in Boston, Lee reluctantly returns to Manchester-by-the-Sea, the fishing village where his working-class family has lived for generations. There, he is forced to deal with a past that separated him from his wife, Randi (Michelle Williams), and the community where he was born and raised.\"\n",
    "overview_3 = preprocesar_texto(overview_3)\n",
    "doc_inst_3 = modelo_binario.make_doc(overview_3)\n",
    "print(\"Documento de prueba:\", doc_inst_3)\n",
    "topic_dist_3, _ = modelo_binario.infer(doc_inst_3)\n",
    "print(\"Distribución de los temas\", topic_dist_3)\n",
    "prob_dist_3 = modelo_binario.estimate(doc_inst_3)\n",
    "if prob_dist_3 > 0.5:\n",
    "    print(\"Predicción: Género 18 (positivo) \", prob_dist_3)\n",
    "else:\n",
    "    print(\"Predicción: Género 18 (negativo) \", prob_dist_3) "
   ]
  }
 ],
 "metadata": {
  "kernelspec": {
   "display_name": "Python 3",
   "language": "python",
   "name": "python3"
  },
  "language_info": {
   "codemirror_mode": {
    "name": "ipython",
    "version": 3
   },
   "file_extension": ".py",
   "mimetype": "text/x-python",
   "name": "python",
   "nbconvert_exporter": "python",
   "pygments_lexer": "ipython3",
   "version": "3.10.16"
  }
 },
 "nbformat": 4,
 "nbformat_minor": 5
}
