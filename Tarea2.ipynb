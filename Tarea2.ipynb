{
 "cells": [
  {
   "cell_type": "markdown",
   "id": "d8485859",
   "metadata": {},
   "source": [
    "<table style=\"width:100%; border-collapse: collapse;\">\n",
    "    <tr>\n",
    "        <td style=\"width: 30%; text-align: center;\">\n",
    "            <img src=\"https://s3.amazonaws.com/media-p.slid.es/uploads/1485763/images/9060062/Header.png\" width=\"300\" alt=\"Header Image\"/>\n",
    "        </td>\n",
    "        <td style=\"width: 5%;\"></td>\n",
    "        <td style=\"width: 35%; text-align: center;\">\n",
    "            <h1 style=\"font-size: 250%; color: #004aad; margin: 0;\">\n",
    "                Taller 2\n",
    "            </h1>\n",
    "        </td>\n",
    "        <td style=\"width: 30%; text-align: left; vertical-align: middle;\">\n",
    "            <p style=\"font-size: 110%; text-align: center; margin: 5px 0;\">Aplicaciones de ML</p>\n",
    "            <p style=\"font-size: 120%; text-align: center; margin: 5px 0;\">Maestría MACC</p>\n",
    "            <p style=\"font-size: 120%; text-align: center; margin: 5px 0;\">\n",
    "                Estudiantes: \n",
    "                <b style=\"color: #d9534f;\">Leandro Sánchez Quiroga</b>, \n",
    "                <b style=\"color: #d9534f;\">Leonardo Vargas</b> \n",
    "            </p>\n",
    "        </td>\n",
    "    </tr>\n",
    "</table>"
   ]
  },
  {
   "cell_type": "markdown",
   "id": "0fdbfcba",
   "metadata": {},
   "source": [
    "## Clasificación de Género Cinematográfico a Partir de Sinopsis\n",
    "\n",
    "En este proyecto exploramos el uso de modelos estadísticos para representar textos en lenguaje natural mediante técnicas de modelado de tópicos, con el objetivo final de clasificar películas según su género. A partir del dataset **The Movies Dataset** de Kaggle, que contiene metadatos de más de 45.000 películas, desarrollamos un pipeline completo que incluye:\n",
    "\n",
    "- **Preprocesamiento del texto** (sinopsis) usando spaCy.\n",
    "- **Filtrado del dataset** para quedarnos únicamente con películas que tienen un solo género asignado.\n",
    "- **Vectorización del texto** utilizando *Supervised Latent Dirichlet Allocation (sLDA)*.\n",
    "- **Entrenamiento de modelos supervisados** para predecir si una película pertenece al género *Drama*.\n",
    "- **Evaluación del desempeño del modelo** y análisis de resultados.\n",
    "\n",
    "### Herramientas utilizadas\n",
    "\n",
    "- `pandas`, `numpy` y `matplotlib` para manejo de datos y visualización.\n",
    "- `spaCy` para el procesamiento de lenguaje natural.\n",
    "- `tomotopy` para el modelado supervisado de tópicos (sLDA).\n",
    "- `scikit-learn` para la división de conjuntos, evaluación de modelos y clasificación.\n",
    "- Funciones personalizadas en `utils.py` para modularizar el código y mantener una arquitectura clara y reutilizable.\n"
   ]
  },
  {
   "cell_type": "code",
   "execution_count": 2,
   "id": "b2318181",
   "metadata": {},
   "outputs": [
    {
     "name": "stderr",
     "output_type": "stream",
     "text": [
      "c:\\Users\\jlvar\\OneDrive - Universidad del rosario\\001 - MMACC\\2025-1\\002 - Aplicaicones ML\\Tarea 2\\Tarea2\\lib\\site-packages\\tqdm\\auto.py:21: TqdmWarning: IProgress not found. Please update jupyter and ipywidgets. See https://ipywidgets.readthedocs.io/en/stable/user_install.html\n",
      "  from .autonotebook import tqdm as notebook_tqdm\n"
     ]
    },
    {
     "name": "stdout",
     "output_type": "stream",
     "text": [
      "Collecting en-core-web-sm==3.8.0\n",
      "  Downloading https://github.com/explosion/spacy-models/releases/download/en_core_web_sm-3.8.0/en_core_web_sm-3.8.0-py3-none-any.whl (12.8 MB)\n",
      "     ---------------------------------------- 0.0/12.8 MB ? eta -:--:--\n",
      "     ------- -------------------------------- 2.4/12.8 MB 13.4 MB/s eta 0:00:01\n",
      "     ----------------- ---------------------- 5.5/12.8 MB 14.0 MB/s eta 0:00:01\n",
      "     ------------------------- -------------- 8.1/12.8 MB 14.0 MB/s eta 0:00:01\n",
      "     --------------------------------- ----- 11.0/12.8 MB 13.8 MB/s eta 0:00:01\n",
      "     --------------------------------------- 12.8/12.8 MB 13.2 MB/s eta 0:00:00\n",
      "\u001b[38;5;2m✔ Download and installation successful\u001b[0m\n",
      "You can now load the package via spacy.load('en_core_web_sm')\n"
     ]
    }
   ],
   "source": [
    "from utils import *\n",
    "import pandas as pd\n",
    "import os\n",
    "import pandas as pd\n",
    "import numpy as np\n",
    "import seaborn as sns\n",
    "import ast\n",
    "import matplotlib.pyplot as plt\n",
    "from sklearn.model_selection import train_test_split\n",
    "import tomotopy as tp\n",
    "! python -m spacy download en_core_web_sm"
   ]
  },
  {
   "cell_type": "markdown",
   "id": "ecbe97d3",
   "metadata": {},
   "source": [
    "### Carga y preparación del conjunto de datos\n",
    "\n",
    "En esta celda se ejecuta la función `generar_datos_entrenamiento()`, la cual realiza la limpieza y estructuración del dataset original descargado desde Kaggle. Si el data set no se ha descargado se crea una nueva carpeta y se descarga en ella la información, en el caso de que ya este el data set solo lo carga.\n",
    "\n",
    "\n"
   ]
  },
  {
   "cell_type": "code",
   "execution_count": 3,
   "id": "13adf5ed",
   "metadata": {},
   "outputs": [
    {
     "name": "stdout",
     "output_type": "stream",
     "text": [
      "Los archivos ya están descargados en la carpeta 'Data'.\n",
      "Número de películas finales: 14136\n",
      "Número de géneros: 20\n"
     ]
    },
    {
     "data": {
      "text/html": [
       "<div>\n",
       "<style scoped>\n",
       "    .dataframe tbody tr th:only-of-type {\n",
       "        vertical-align: middle;\n",
       "    }\n",
       "\n",
       "    .dataframe tbody tr th {\n",
       "        vertical-align: top;\n",
       "    }\n",
       "\n",
       "    .dataframe thead th {\n",
       "        text-align: right;\n",
       "    }\n",
       "</style>\n",
       "<table border=\"1\" class=\"dataframe\">\n",
       "  <thead>\n",
       "    <tr style=\"text-align: right;\">\n",
       "      <th></th>\n",
       "      <th>title</th>\n",
       "      <th>overview</th>\n",
       "      <th>genre_id</th>\n",
       "      <th>genre_name</th>\n",
       "    </tr>\n",
       "  </thead>\n",
       "  <tbody>\n",
       "    <tr>\n",
       "      <th>4</th>\n",
       "      <td>Father of the Bride Part II</td>\n",
       "      <td>Just when George Banks has recovered from his ...</td>\n",
       "      <td>35</td>\n",
       "      <td>Comedy</td>\n",
       "    </tr>\n",
       "    <tr>\n",
       "      <th>25</th>\n",
       "      <td>Othello</td>\n",
       "      <td>The evil Iago pretends to be friend of Othello...</td>\n",
       "      <td>18</td>\n",
       "      <td>Drama</td>\n",
       "    </tr>\n",
       "    <tr>\n",
       "      <th>35</th>\n",
       "      <td>Dead Man Walking</td>\n",
       "      <td>A justice drama based on a true story about a ...</td>\n",
       "      <td>18</td>\n",
       "      <td>Drama</td>\n",
       "    </tr>\n",
       "    <tr>\n",
       "      <th>39</th>\n",
       "      <td>Cry, the Beloved Country</td>\n",
       "      <td>A South-African preacher goes to search for hi...</td>\n",
       "      <td>18</td>\n",
       "      <td>Drama</td>\n",
       "    </tr>\n",
       "    <tr>\n",
       "      <th>54</th>\n",
       "      <td>Georgia</td>\n",
       "      <td>Sadie looks up to her older sister Georgia, a ...</td>\n",
       "      <td>18</td>\n",
       "      <td>Drama</td>\n",
       "    </tr>\n",
       "  </tbody>\n",
       "</table>\n",
       "</div>"
      ],
      "text/plain": [
       "                          title  \\\n",
       "4   Father of the Bride Part II   \n",
       "25                      Othello   \n",
       "35             Dead Man Walking   \n",
       "39     Cry, the Beloved Country   \n",
       "54                      Georgia   \n",
       "\n",
       "                                             overview  genre_id genre_name  \n",
       "4   Just when George Banks has recovered from his ...        35     Comedy  \n",
       "25  The evil Iago pretends to be friend of Othello...        18      Drama  \n",
       "35  A justice drama based on a true story about a ...        18      Drama  \n",
       "39  A South-African preacher goes to search for hi...        18      Drama  \n",
       "54  Sadie looks up to her older sister Georgia, a ...        18      Drama  "
      ]
     },
     "execution_count": 3,
     "metadata": {},
     "output_type": "execute_result"
    }
   ],
   "source": [
    "movies, tabla_generos = generar_datos_entrenamiento()\n",
    "print(f\"Número de películas finales: {len(movies)}\")\n",
    "print(f\"Número de géneros: {len(tabla_generos)}\")\n",
    "movies.head()"
   ]
  },
  {
   "cell_type": "markdown",
   "id": "57c1a2e8",
   "metadata": {},
   "source": [
    "### Preprocesamiento del texto con spaCy\n",
    "\n",
    "En esta celda se realiza el preprocesamiento de la columna `overview`, aplicando la función `preprocesar_texto()` definida en `utils.py`. Esta función utiliza **spaCy** para realizar las siguientes tareas sobre cada sinopsis:\n",
    "\n",
    "- Conversión a minúsculas.\n",
    "- Eliminación de puntuación, stopwords, números y caracteres no deseados.\n",
    "- Tokenización y lematización.\n",
    "- Filtrado por categorías gramaticales (solo sustantivos, adjetivos y verbos en infinitivo).\n",
    "- Generación de una lista limpia de tokens por cada película.\n",
    "\n",
    "El resultado se almacena en una nueva columna llamada `Overview_procesado`, que contiene listas de palabras ya listas para ser usadas en el modelado.\n",
    "\n",
    "> ⚠️ **Advertencia:** esta celda puede tardar varios minutos en ejecutarse, ya que el procesamiento con spaCy se realiza sin vectorización previa, sobre miles de registros.\n",
    "\n",
    "Para evitar repetir este paso innecesariamente, los resultados se guardan en el archivo `movies_procesado.csv`.  \n",
    "**Si ya está ese archivo, no se recomienda volver a ejecutar esta celda.**  \n",
    "En su lugar, pasar directamente a la siguiente celda, donde se carga el CSV y se retransforma la columna `Overview_procesado` para recuperar su estructura de lista.\n"
   ]
  },
  {
   "cell_type": "code",
   "execution_count": null,
   "id": "6d505a98",
   "metadata": {},
   "outputs": [],
   "source": [
    "movies['Overview_procesado'] = movies['overview'].apply(preprocesar_texto)\n",
    "movies.to_csv(\"movies_procesado.csv\", index=False, encoding='utf-8')"
   ]
  },
  {
   "cell_type": "markdown",
   "id": "3f73f75c",
   "metadata": {},
   "source": [
    "### Carga de datos preprocesados y limpieza adicional\n",
    "\n",
    "En esta celda se carga el archivo `movies_procesado.csv`, previamente generado tras aplicar el preprocesamiento con spaCy. Este archivo contiene una columna llamada `Overview_procesado` que, al momento de guardarse, quedó almacenada como una cadena de texto con formato de lista.\n",
    "\n",
    "Para recuperar la estructura original de listas de palabras, se realiza lo siguiente:\n",
    "\n",
    "1. **Conversión con `ast.literal_eval`**: esta función transforma el texto que representa una lista (ej. `\"['film', 'drama']\"`) nuevamente en una lista Python real (`['film', 'drama']`).\n",
    "2. **Limpieza adicional de palabras**: se aplica la función `limpiar_palabra()` sobre cada token para eliminar residuos de puntuación u otros caracteres especiales que hayan quedado en el proceso anterior.\n",
    "\n",
    "> ✅ Esta celda permite continuar el flujo de trabajo sin necesidad de reprocesar todo el texto desde cero, ahorrando tiempo y recursos computacionales.\n"
   ]
  },
  {
   "cell_type": "code",
   "execution_count": 4,
   "id": "da2e4cf7",
   "metadata": {},
   "outputs": [
    {
     "data": {
      "image/png": "[encoded data removed]",
      "text/plain": [
       "<Figure size 1000x600 with 1 Axes>"
      ]
     },
     "metadata": {},
     "output_type": "display_data"
    }
   ],
   "source": [
    "movies = pd.read_csv(\"movies_procesado.csv\")\n",
    "movies['Overview_procesado'] = movies['Overview_procesado'].apply(ast.literal_eval)\n",
    "# Aplicar limpieza a cada lista de palabras\n",
    "movies['Overview_procesado'] = movies['Overview_procesado'].apply(\n",
    "    lambda lista: [limpiar_palabra(palabra) for palabra in lista]\n",
    ")\n",
    "movies.head()\n",
    "graficar_frecuencia_generos(movies)"
   ]
  },
  {
   "cell_type": "markdown",
   "id": "9613c80e",
   "metadata": {},
   "source": [
    "### Definición de variable objetivo y partición del conjunto de datos\n",
    "\n",
    "En esta celda se prepara el conjunto de datos para el entrenamiento del modelo supervisado:\n",
    "\n",
    "1. **Creación de la variable `y_real`**: se define una variable binaria que indica si una película pertenece al género *Drama* (`genre_id == 18`). Si es así, `y_real` toma el valor `1`; en caso contrario, `0`.\n",
    "\n",
    "2. **Selección de columnas relevantes**: se crea el DataFrame `datos` con únicamente dos columnas: `Overview_procesado` (lista de palabras de la sinopsis preprocesada) y `y_real`.\n",
    "\n",
    "3. **Partición del dataset**:\n",
    "   - Se utiliza `train_test_split` para dividir los datos en dos subconjuntos:\n",
    "     - 70% para entrenamiento (`movies_train`)\n",
    "     - 30% para validación (`movies_val`)\n",
    "   - Se emplea `stratify` sobre `y_real` para asegurar que la proporción de clases (Drama vs. no Drama) se mantenga en ambas particiones.\n",
    "\n",
    "4. **Conversión a listas para modelado**:\n",
    "   - `documentos`: lista de sinopsis del conjunto de entrenamiento, cada una como lista de tokens.\n",
    "   - `genero`: lista de etiquetas binarias (`y_real`) correspondientes a cada sinopsis.\n"
   ]
  },
  {
   "cell_type": "code",
   "execution_count": 5,
   "id": "8ccbf884",
   "metadata": {},
   "outputs": [],
   "source": [
    "movies['y_real'] = movies['genre_id'].apply(lambda x: 1 if x == 18 else 0)\n",
    "datos = movies[['Overview_procesado', 'y_real']].dropna()\n",
    "movies_train, movies_val = train_test_split(\n",
    "    datos,\n",
    "    test_size=0.3,\n",
    "    random_state=42,\n",
    "    stratify=movies['y_real'] \n",
    ")\n",
    "documentos = movies_train.Overview_procesado.tolist()\n",
    "genero = movies_train.y_real.tolist()"
   ]
  },
  {
   "cell_type": "markdown",
   "id": "3b0cbe0a",
   "metadata": {},
   "source": [
    "### Entrenamiento y análisis del modelo supervisado S-LDA (binario)\n",
    "\n",
    "En esta celda se realiza el entrenamiento y análisis de un modelo **Supervised Latent Dirichlet Allocation (sLDA)** para la tarea de clasificación binaria (*Drama* vs. *no Drama*) a partir de las sinopsis preprocesadas de las películas. El flujo de trabajo es el siguiente:\n",
    "\n",
    "1. **Inicialización del modelo**:\n",
    "   - Se crea una instancia de `SLDAModel` de la librería `tomotopy` con los siguientes parámetros:\n",
    "     - `k=10`: número de tópicos latentes a aprender.\n",
    "     - `seed=123`: semilla para asegurar reproducibilidad.\n",
    "     - `vars='b'`: especifica que la variable objetivo es binaria.\n",
    "\n",
    "2. **Adición de documentos**:\n",
    "   - Se agregan los documentos de entrenamiento (`documentos`), junto con sus etiquetas binarias (`genero`), al modelo mediante el método `add_doc()`.\n",
    "\n",
    "3. **Entrenamiento**:\n",
    "   - El modelo se entrena durante 2000 iteraciones usando el método `train()`, aprendiendo simultáneamente la estructura temática de los textos y la relación de los tópicos con la variable objetivo.\n",
    "\n",
    "4. **Exploración de los tópicos aprendidos**:\n",
    "   - Se imprime el top 5 de palabras más representativas para cada uno de los 10 tópicos, lo que permite interpretar los temas latentes descubiertos por el modelo.\n",
    "\n",
    "5. **Análisis de los coeficientes de regresión**:\n",
    "   - Se extraen e imprimen los coeficientes de regresión asociados a cada tópico, que indican la influencia de cada tema en la predicción de la clase positiva (*Drama*).\n",
    "\n",
    "6. **Predicción sobre un ejemplo de validación**:\n",
    "   - Se selecciona un documento del conjunto de validación y se transforma al formato requerido por el modelo.\n",
    "   - Se imprime la sinopsis procesada, la etiqueta real y la distribución de tópicos inferida para ese documento.\n",
    "   - Se estima la probabilidad de que el documento pertenezca al género *Drama* y se imprime la predicción junto con la probabilidad calculada.\n",
    "\n",
    "\n"
   ]
  },
  {
   "cell_type": "code",
   "execution_count": 6,
   "id": "1f88bd07",
   "metadata": {},
   "outputs": [
    {
     "name": "stdout",
     "output_type": "stream",
     "text": [
      "\n",
      "Temas Aprendidos:\n",
      "Tema #0: [('murder', 0.02151600457727909), ('kill', 0.015862708911299706), ('man', 0.01569804921746254), ('find', 0.014984527602791786), ('police', 0.013941685669124126)]\n",
      "Tema #1: [('woman', 0.03517749533057213), ('love', 0.03171563893556595), ('young', 0.025796979665756226), ('man', 0.016863154247403145), ('fall', 0.016193117946386337)]\n",
      "Tema #2: [('life', 0.037837643176317215), ('story', 0.01907639019191265), ('world', 0.016636114567518234), ('man', 0.015140462666749954), ('people', 0.008554344065487385)]\n",
      "Tema #3: [('friend', 0.012114287354052067), ('find', 0.011735724285244942), ('way', 0.009413867257535458), ('money', 0.008934353478252888), ('job', 0.008732452988624573)]\n",
      "Tema #4: [('war', 0.025239743292331696), ('american', 0.011306805536150932), ('country', 0.00942243356257677), ('political', 0.007994878105819225), ('story', 0.007309651933610439)]\n",
      "Tema #5: [('comedy', 0.020837005227804184), ('star', 0.015233933925628662), ('play', 0.014825375750660896), ('team', 0.014066626317799091), ('special', 0.013016050681471825)]\n",
      "Tema #6: [('school', 0.06828685849905014), ('student', 0.03765789419412613), ('high', 0.03083980083465576), ('college', 0.02087489701807499), ('girl', 0.018147660419344902)]\n",
      "Tema #7: [('find', 0.010606608353555202), ('earth', 0.008508086204528809), ('island', 0.008394652977585793), ('group', 0.007827484980225563), ('evil', 0.007543900981545448)]\n",
      "Tema #8: [('family', 0.02975849062204361), ('old', 0.027422331273555756), ('year', 0.026838291436433792), ('young', 0.022972505539655685), ('father', 0.020469479262828827)]\n",
      "Tema #9: [('film', 0.06079094111919403), ('documentary', 0.021651342511177063), ('story', 0.01320215966552496), ('movie', 0.011586874723434448), ('life', 0.009567768312990665)]\n",
      "\n",
      "Coeficientes de Regresión para Sentimiento (Log-Odds):\n",
      "Tema #0: -2.3356\n",
      "Tema #1: 2.1480\n",
      "Tema #2: 1.7118\n",
      "Tema #3: -2.4138\n",
      "Tema #4: 0.2644\n",
      "Tema #5: -3.5474\n",
      "Tema #6: -0.4089\n",
      "Tema #7: -6.1410\n",
      "Tema #8: 2.3261\n",
      "Tema #9: -2.9239\n",
      "Documento de prueba: <tomotopy.Document with words=\"base novel revolutionary priest priest fugitive try getaway authority denounce christianity want link dead fugitive find shelter indian woman woman faithful parishioner give priest direction grande board ship sail freedom journey grande meet man say protect reality police informer fugitive realize run police informer authority\">\n",
      "Género real: 0\n",
      "Distribución de los temas [0.2702535  0.02711882 0.17647511 0.07535569 0.16868097 0.00593626\n",
      " 0.08457669 0.08716433 0.03330955 0.07112908]\n",
      "Predicción: Género 18 (negativo)  [0.2382948]\n"
     ]
    },
    {
     "name": "stderr",
     "output_type": "stream",
     "text": [
      "C:\\Users\\jlvar\\AppData\\Local\\Temp\\ipykernel_26744\\3270540886.py:11: RuntimeWarning: The training result may differ even with fixed seed if `workers` != 1.\n",
      "  modelo_binario.train(2000)\n"
     ]
    }
   ],
   "source": [
    "# Entrenamiento y análisis del modelo supervisado S-LDA (binario)\n",
    "\n",
    "# 1. Inicialización del modelo S-LDA para clasificación binaria (Drama vs. no Drama)\n",
    "modelo_binario = tp.SLDAModel(k=10, seed=123, vars='b')\n",
    "\n",
    "# 2. Adición de documentos de entrenamiento y sus etiquetas binarias al modelo\n",
    "for i in range(len(documentos)):\n",
    "    modelo_binario.add_doc(words=documentos[i], y=[genero[i]])\n",
    "\n",
    "# 3. Entrenamiento del modelo durante 2000 iteraciones\n",
    "modelo_binario.train(2000)\n",
    "\n",
    "# 4. Impresión de los 5 términos más representativos de cada uno de los 10 tópicos aprendidos\n",
    "print(\"\\nTemas Aprendidos:\")\n",
    "for k in range(modelo_binario.k):\n",
    "    print(f\"Tema #{k}: {modelo_binario.get_topic_words(k, top_n=5)}\")\n",
    "\n",
    "# 5. Extracción e impresión de los coeficientes de regresión (log-odds) para cada tópico,\n",
    "#    que indican su influencia en la predicción de la clase positiva (Drama)\n",
    "coeficientes_regresion_binario = modelo_binario.get_regression_coef(0)\n",
    "print(\"\\nCoeficientes de Regresión para Sentimiento (Log-Odds):\")\n",
    "for i, coef in enumerate(coeficientes_regresion_binario):\n",
    "    print(f\"Tema #{i}: {coef:.4f}\")\n",
    "\n",
    "# 6. Ejemplo de predicción sobre un documento del conjunto de validación:\n",
    "#    - Se transforma la sinopsis procesada al formato requerido por el modelo\n",
    "#    - Se imprime la sinopsis, la etiqueta real, la distribución de tópicos inferida\n",
    "#    - Se estima la probabilidad de pertenecer al género Drama y se imprime la predicción\n",
    "exa = 0\n",
    "doc_inst = modelo_binario.make_doc(movies_val.Overview_procesado.iloc[exa])\n",
    "print(\"Documento de prueba:\", doc_inst)\n",
    "print(\"Género real:\", movies_val.y_real.iloc[exa])\n",
    "topic_dist, _ = modelo_binario.infer(doc_inst)\n",
    "print(\"Distribución de los temas\", topic_dist)\n",
    "prob_dist = modelo_binario.estimate(doc_inst)\n",
    "if prob_dist > 0.5:\n",
    "    print(\"Predicción: Género 18 (positivo) \", prob_dist)\n",
    "else:\n",
    "    print(\"Predicción: Género 18 (negativo) \", prob_dist)"
   ]
  },
  {
   "cell_type": "markdown",
   "id": "cf0c258d",
   "metadata": {},
   "source": [
    "### Validación cruzada para selección del número óptimo de tópicos (k)\n",
    "\n",
    "En esta celda se ejecuta una validación cruzada de 5 folds para determinar el número óptimo de tópicos (`k`) que debe tener el modelo sLDA. Para ello:\n",
    "\n",
    "1. Se define un rango de valores posibles para `k`, desde 10 hasta 20.\n",
    "2. Para cada valor de `k`:\n",
    "   - Se entrena un modelo sLDA con `k` tópicos usando solo el conjunto de entrenamiento.\n",
    "   - Se realiza una validación cruzada de 5 pliegues:\n",
    "     - En cada pliegue, se entrena el modelo sobre el 80% de los datos y se evalúa sobre el 20% restante.\n",
    "     - Se extraen los embeddings temáticos (distribuciones de tópicos).\n",
    "     - Se entrena un clasificador (regresión logística) y se mide la precisión (`accuracy`) en cada pliegue.\n",
    "   - Se calcula el promedio de accuracy de los 5 folds y se guarda en un diccionario.\n",
    "\n",
    "Este proceso permite comparar el desempeño de modelos con diferentes cantidades de tópicos y seleccionar el valor de `k` que ofrece mejor capacidad predictiva.  \n",
    "El resultado de cada evaluación se imprime en pantalla junto con la precisión promedio correspondiente.\n",
    "\n"
   ]
  },
  {
   "cell_type": "code",
   "execution_count": 8,
   "id": "bdafcc1f",
   "metadata": {},
   "outputs": [
    {
     "name": "stdout",
     "output_type": "stream",
     "text": [
      "Evaluando k=10...\n",
      "Entrenando modelo con 7912 documentos (fold 1)\n",
      "Fold 1 accuracy: 0.7298\n",
      "Entrenando modelo con 7910 documentos (fold 2)\n"
     ]
    },
    {
     "name": "stderr",
     "output_type": "stream",
     "text": [
      "c:\\Users\\jlvar\\OneDrive - Universidad del rosario\\001 - MMACC\\2025-1\\002 - Aplicaicones ML\\Tarea 2\\utils.py:248: RuntimeWarning: The training result may differ even with fixed seed if `workers` != 1.\n",
      "  modelo.train(iteraciones)\n"
     ]
    },
    {
     "name": "stdout",
     "output_type": "stream",
     "text": [
      "Fold 2 accuracy: 0.7250\n",
      "Entrenando modelo con 7909 documentos (fold 3)\n"
     ]
    },
    {
     "name": "stderr",
     "output_type": "stream",
     "text": [
      "c:\\Users\\jlvar\\OneDrive - Universidad del rosario\\001 - MMACC\\2025-1\\002 - Aplicaicones ML\\Tarea 2\\utils.py:248: RuntimeWarning: The training result may differ even with fixed seed if `workers` != 1.\n",
      "  modelo.train(iteraciones)\n"
     ]
    },
    {
     "name": "stdout",
     "output_type": "stream",
     "text": [
      "Fold 3 accuracy: 0.7009\n",
      "Entrenando modelo con 7911 documentos (fold 4)\n"
     ]
    },
    {
     "name": "stderr",
     "output_type": "stream",
     "text": [
      "c:\\Users\\jlvar\\OneDrive - Universidad del rosario\\001 - MMACC\\2025-1\\002 - Aplicaicones ML\\Tarea 2\\utils.py:248: RuntimeWarning: The training result may differ even with fixed seed if `workers` != 1.\n",
      "  modelo.train(iteraciones)\n"
     ]
    },
    {
     "name": "stdout",
     "output_type": "stream",
     "text": [
      "Fold 4 accuracy: 0.7198\n",
      "Entrenando modelo con 7910 documentos (fold 5)\n"
     ]
    },
    {
     "name": "stderr",
     "output_type": "stream",
     "text": [
      "c:\\Users\\jlvar\\OneDrive - Universidad del rosario\\001 - MMACC\\2025-1\\002 - Aplicaicones ML\\Tarea 2\\utils.py:248: RuntimeWarning: The training result may differ even with fixed seed if `workers` != 1.\n",
      "  modelo.train(iteraciones)\n"
     ]
    },
    {
     "name": "stdout",
     "output_type": "stream",
     "text": [
      "Fold 5 accuracy: 0.6972\n",
      "→ k=10, accuracy promedio: 0.7145\n",
      "Evaluando k=11...\n",
      "Entrenando modelo con 7912 documentos (fold 1)\n"
     ]
    },
    {
     "name": "stderr",
     "output_type": "stream",
     "text": [
      "c:\\Users\\jlvar\\OneDrive - Universidad del rosario\\001 - MMACC\\2025-1\\002 - Aplicaicones ML\\Tarea 2\\utils.py:248: RuntimeWarning: The training result may differ even with fixed seed if `workers` != 1.\n",
      "  modelo.train(iteraciones)\n"
     ]
    },
    {
     "name": "stdout",
     "output_type": "stream",
     "text": [
      "Fold 1 accuracy: 0.7308\n",
      "Entrenando modelo con 7910 documentos (fold 2)\n"
     ]
    },
    {
     "name": "stderr",
     "output_type": "stream",
     "text": [
      "c:\\Users\\jlvar\\OneDrive - Universidad del rosario\\001 - MMACC\\2025-1\\002 - Aplicaicones ML\\Tarea 2\\utils.py:248: RuntimeWarning: The training result may differ even with fixed seed if `workers` != 1.\n",
      "  modelo.train(iteraciones)\n"
     ]
    },
    {
     "name": "stdout",
     "output_type": "stream",
     "text": [
      "Fold 2 accuracy: 0.7250\n",
      "Entrenando modelo con 7909 documentos (fold 3)\n"
     ]
    },
    {
     "name": "stderr",
     "output_type": "stream",
     "text": [
      "c:\\Users\\jlvar\\OneDrive - Universidad del rosario\\001 - MMACC\\2025-1\\002 - Aplicaicones ML\\Tarea 2\\utils.py:248: RuntimeWarning: The training result may differ even with fixed seed if `workers` != 1.\n",
      "  modelo.train(iteraciones)\n"
     ]
    },
    {
     "name": "stdout",
     "output_type": "stream",
     "text": [
      "Fold 3 accuracy: 0.7084\n",
      "Entrenando modelo con 7911 documentos (fold 4)\n"
     ]
    },
    {
     "name": "stderr",
     "output_type": "stream",
     "text": [
      "c:\\Users\\jlvar\\OneDrive - Universidad del rosario\\001 - MMACC\\2025-1\\002 - Aplicaicones ML\\Tarea 2\\utils.py:248: RuntimeWarning: The training result may differ even with fixed seed if `workers` != 1.\n",
      "  modelo.train(iteraciones)\n"
     ]
    },
    {
     "name": "stdout",
     "output_type": "stream",
     "text": [
      "Fold 4 accuracy: 0.7228\n",
      "Entrenando modelo con 7910 documentos (fold 5)\n"
     ]
    },
    {
     "name": "stderr",
     "output_type": "stream",
     "text": [
      "c:\\Users\\jlvar\\OneDrive - Universidad del rosario\\001 - MMACC\\2025-1\\002 - Aplicaicones ML\\Tarea 2\\utils.py:248: RuntimeWarning: The training result may differ even with fixed seed if `workers` != 1.\n",
      "  modelo.train(iteraciones)\n"
     ]
    },
    {
     "name": "stdout",
     "output_type": "stream",
     "text": [
      "Fold 5 accuracy: 0.6972\n",
      "→ k=11, accuracy promedio: 0.7168\n",
      "Evaluando k=12...\n",
      "Entrenando modelo con 7912 documentos (fold 1)\n"
     ]
    },
    {
     "name": "stderr",
     "output_type": "stream",
     "text": [
      "c:\\Users\\jlvar\\OneDrive - Universidad del rosario\\001 - MMACC\\2025-1\\002 - Aplicaicones ML\\Tarea 2\\utils.py:248: RuntimeWarning: The training result may differ even with fixed seed if `workers` != 1.\n",
      "  modelo.train(iteraciones)\n"
     ]
    },
    {
     "name": "stdout",
     "output_type": "stream",
     "text": [
      "Fold 1 accuracy: 0.7287\n",
      "Entrenando modelo con 7910 documentos (fold 2)\n"
     ]
    },
    {
     "name": "stderr",
     "output_type": "stream",
     "text": [
      "c:\\Users\\jlvar\\OneDrive - Universidad del rosario\\001 - MMACC\\2025-1\\002 - Aplicaicones ML\\Tarea 2\\utils.py:248: RuntimeWarning: The training result may differ even with fixed seed if `workers` != 1.\n",
      "  modelo.train(iteraciones)\n"
     ]
    },
    {
     "name": "stdout",
     "output_type": "stream",
     "text": [
      "Fold 2 accuracy: 0.7189\n",
      "Entrenando modelo con 7909 documentos (fold 3)\n"
     ]
    },
    {
     "name": "stderr",
     "output_type": "stream",
     "text": [
      "c:\\Users\\jlvar\\OneDrive - Universidad del rosario\\001 - MMACC\\2025-1\\002 - Aplicaicones ML\\Tarea 2\\utils.py:248: RuntimeWarning: The training result may differ even with fixed seed if `workers` != 1.\n",
      "  modelo.train(iteraciones)\n"
     ]
    },
    {
     "name": "stdout",
     "output_type": "stream",
     "text": [
      "Fold 3 accuracy: 0.7180\n",
      "Entrenando modelo con 7911 documentos (fold 4)\n"
     ]
    },
    {
     "name": "stderr",
     "output_type": "stream",
     "text": [
      "c:\\Users\\jlvar\\OneDrive - Universidad del rosario\\001 - MMACC\\2025-1\\002 - Aplicaicones ML\\Tarea 2\\utils.py:248: RuntimeWarning: The training result may differ even with fixed seed if `workers` != 1.\n",
      "  modelo.train(iteraciones)\n"
     ]
    },
    {
     "name": "stdout",
     "output_type": "stream",
     "text": [
      "Fold 4 accuracy: 0.7299\n",
      "Entrenando modelo con 7910 documentos (fold 5)\n"
     ]
    },
    {
     "name": "stderr",
     "output_type": "stream",
     "text": [
      "c:\\Users\\jlvar\\OneDrive - Universidad del rosario\\001 - MMACC\\2025-1\\002 - Aplicaicones ML\\Tarea 2\\utils.py:248: RuntimeWarning: The training result may differ even with fixed seed if `workers` != 1.\n",
      "  modelo.train(iteraciones)\n"
     ]
    },
    {
     "name": "stdout",
     "output_type": "stream",
     "text": [
      "Fold 5 accuracy: 0.7098\n",
      "→ k=12, accuracy promedio: 0.7211\n",
      "Evaluando k=13...\n",
      "Entrenando modelo con 7912 documentos (fold 1)\n"
     ]
    },
    {
     "name": "stderr",
     "output_type": "stream",
     "text": [
      "c:\\Users\\jlvar\\OneDrive - Universidad del rosario\\001 - MMACC\\2025-1\\002 - Aplicaicones ML\\Tarea 2\\utils.py:248: RuntimeWarning: The training result may differ even with fixed seed if `workers` != 1.\n",
      "  modelo.train(iteraciones)\n"
     ]
    },
    {
     "name": "stdout",
     "output_type": "stream",
     "text": [
      "Fold 1 accuracy: 0.7348\n",
      "Entrenando modelo con 7910 documentos (fold 2)\n"
     ]
    },
    {
     "name": "stderr",
     "output_type": "stream",
     "text": [
      "c:\\Users\\jlvar\\OneDrive - Universidad del rosario\\001 - MMACC\\2025-1\\002 - Aplicaicones ML\\Tarea 2\\utils.py:248: RuntimeWarning: The training result may differ even with fixed seed if `workers` != 1.\n",
      "  modelo.train(iteraciones)\n"
     ]
    },
    {
     "name": "stdout",
     "output_type": "stream",
     "text": [
      "Fold 2 accuracy: 0.7113\n",
      "Entrenando modelo con 7909 documentos (fold 3)\n"
     ]
    },
    {
     "name": "stderr",
     "output_type": "stream",
     "text": [
      "c:\\Users\\jlvar\\OneDrive - Universidad del rosario\\001 - MMACC\\2025-1\\002 - Aplicaicones ML\\Tarea 2\\utils.py:248: RuntimeWarning: The training result may differ even with fixed seed if `workers` != 1.\n",
      "  modelo.train(iteraciones)\n"
     ]
    },
    {
     "name": "stdout",
     "output_type": "stream",
     "text": [
      "Fold 3 accuracy: 0.7160\n",
      "Entrenando modelo con 7911 documentos (fold 4)\n"
     ]
    },
    {
     "name": "stderr",
     "output_type": "stream",
     "text": [
      "c:\\Users\\jlvar\\OneDrive - Universidad del rosario\\001 - MMACC\\2025-1\\002 - Aplicaicones ML\\Tarea 2\\utils.py:248: RuntimeWarning: The training result may differ even with fixed seed if `workers` != 1.\n",
      "  modelo.train(iteraciones)\n"
     ]
    },
    {
     "name": "stdout",
     "output_type": "stream",
     "text": [
      "Fold 4 accuracy: 0.7172\n",
      "Entrenando modelo con 7910 documentos (fold 5)\n"
     ]
    },
    {
     "name": "stderr",
     "output_type": "stream",
     "text": [
      "c:\\Users\\jlvar\\OneDrive - Universidad del rosario\\001 - MMACC\\2025-1\\002 - Aplicaicones ML\\Tarea 2\\utils.py:248: RuntimeWarning: The training result may differ even with fixed seed if `workers` != 1.\n",
      "  modelo.train(iteraciones)\n"
     ]
    },
    {
     "name": "stdout",
     "output_type": "stream",
     "text": [
      "Fold 5 accuracy: 0.7007\n",
      "→ k=13, accuracy promedio: 0.7160\n",
      "Evaluando k=14...\n",
      "Entrenando modelo con 7912 documentos (fold 1)\n"
     ]
    },
    {
     "name": "stderr",
     "output_type": "stream",
     "text": [
      "c:\\Users\\jlvar\\OneDrive - Universidad del rosario\\001 - MMACC\\2025-1\\002 - Aplicaicones ML\\Tarea 2\\utils.py:248: RuntimeWarning: The training result may differ even with fixed seed if `workers` != 1.\n",
      "  modelo.train(iteraciones)\n"
     ]
    },
    {
     "name": "stdout",
     "output_type": "stream",
     "text": [
      "Fold 1 accuracy: 0.7206\n",
      "Entrenando modelo con 7910 documentos (fold 2)\n"
     ]
    },
    {
     "name": "stderr",
     "output_type": "stream",
     "text": [
      "c:\\Users\\jlvar\\OneDrive - Universidad del rosario\\001 - MMACC\\2025-1\\002 - Aplicaicones ML\\Tarea 2\\utils.py:248: RuntimeWarning: The training result may differ even with fixed seed if `workers` != 1.\n",
      "  modelo.train(iteraciones)\n"
     ]
    },
    {
     "name": "stdout",
     "output_type": "stream",
     "text": [
      "Fold 2 accuracy: 0.7154\n",
      "Entrenando modelo con 7909 documentos (fold 3)\n"
     ]
    },
    {
     "name": "stderr",
     "output_type": "stream",
     "text": [
      "c:\\Users\\jlvar\\OneDrive - Universidad del rosario\\001 - MMACC\\2025-1\\002 - Aplicaicones ML\\Tarea 2\\utils.py:248: RuntimeWarning: The training result may differ even with fixed seed if `workers` != 1.\n",
      "  modelo.train(iteraciones)\n"
     ]
    },
    {
     "name": "stdout",
     "output_type": "stream",
     "text": [
      "Fold 3 accuracy: 0.7155\n",
      "Entrenando modelo con 7911 documentos (fold 4)\n"
     ]
    },
    {
     "name": "stderr",
     "output_type": "stream",
     "text": [
      "c:\\Users\\jlvar\\OneDrive - Universidad del rosario\\001 - MMACC\\2025-1\\002 - Aplicaicones ML\\Tarea 2\\utils.py:248: RuntimeWarning: The training result may differ even with fixed seed if `workers` != 1.\n",
      "  modelo.train(iteraciones)\n"
     ]
    },
    {
     "name": "stdout",
     "output_type": "stream",
     "text": [
      "Fold 4 accuracy: 0.7203\n",
      "Entrenando modelo con 7910 documentos (fold 5)\n"
     ]
    },
    {
     "name": "stderr",
     "output_type": "stream",
     "text": [
      "c:\\Users\\jlvar\\OneDrive - Universidad del rosario\\001 - MMACC\\2025-1\\002 - Aplicaicones ML\\Tarea 2\\utils.py:248: RuntimeWarning: The training result may differ even with fixed seed if `workers` != 1.\n",
      "  modelo.train(iteraciones)\n"
     ]
    },
    {
     "name": "stdout",
     "output_type": "stream",
     "text": [
      "Fold 5 accuracy: 0.7164\n",
      "→ k=14, accuracy promedio: 0.7176\n",
      "Evaluando k=15...\n",
      "Entrenando modelo con 7912 documentos (fold 1)\n"
     ]
    },
    {
     "name": "stderr",
     "output_type": "stream",
     "text": [
      "c:\\Users\\jlvar\\OneDrive - Universidad del rosario\\001 - MMACC\\2025-1\\002 - Aplicaicones ML\\Tarea 2\\utils.py:248: RuntimeWarning: The training result may differ even with fixed seed if `workers` != 1.\n",
      "  modelo.train(iteraciones)\n"
     ]
    },
    {
     "name": "stdout",
     "output_type": "stream",
     "text": [
      "Fold 1 accuracy: 0.7333\n",
      "Entrenando modelo con 7910 documentos (fold 2)\n"
     ]
    },
    {
     "name": "stderr",
     "output_type": "stream",
     "text": [
      "c:\\Users\\jlvar\\OneDrive - Universidad del rosario\\001 - MMACC\\2025-1\\002 - Aplicaicones ML\\Tarea 2\\utils.py:248: RuntimeWarning: The training result may differ even with fixed seed if `workers` != 1.\n",
      "  modelo.train(iteraciones)\n"
     ]
    },
    {
     "name": "stdout",
     "output_type": "stream",
     "text": [
      "Fold 2 accuracy: 0.7174\n",
      "Entrenando modelo con 7909 documentos (fold 3)\n"
     ]
    },
    {
     "name": "stderr",
     "output_type": "stream",
     "text": [
      "c:\\Users\\jlvar\\OneDrive - Universidad del rosario\\001 - MMACC\\2025-1\\002 - Aplicaicones ML\\Tarea 2\\utils.py:248: RuntimeWarning: The training result may differ even with fixed seed if `workers` != 1.\n",
      "  modelo.train(iteraciones)\n"
     ]
    },
    {
     "name": "stdout",
     "output_type": "stream",
     "text": [
      "Fold 3 accuracy: 0.6988\n",
      "Entrenando modelo con 7911 documentos (fold 4)\n"
     ]
    },
    {
     "name": "stderr",
     "output_type": "stream",
     "text": [
      "c:\\Users\\jlvar\\OneDrive - Universidad del rosario\\001 - MMACC\\2025-1\\002 - Aplicaicones ML\\Tarea 2\\utils.py:248: RuntimeWarning: The training result may differ even with fixed seed if `workers` != 1.\n",
      "  modelo.train(iteraciones)\n"
     ]
    },
    {
     "name": "stdout",
     "output_type": "stream",
     "text": [
      "Fold 4 accuracy: 0.7233\n",
      "Entrenando modelo con 7910 documentos (fold 5)\n"
     ]
    },
    {
     "name": "stderr",
     "output_type": "stream",
     "text": [
      "c:\\Users\\jlvar\\OneDrive - Universidad del rosario\\001 - MMACC\\2025-1\\002 - Aplicaicones ML\\Tarea 2\\utils.py:248: RuntimeWarning: The training result may differ even with fixed seed if `workers` != 1.\n",
      "  modelo.train(iteraciones)\n"
     ]
    },
    {
     "name": "stdout",
     "output_type": "stream",
     "text": [
      "Fold 5 accuracy: 0.7174\n",
      "→ k=15, accuracy promedio: 0.7180\n",
      "Evaluando k=16...\n",
      "Entrenando modelo con 7912 documentos (fold 1)\n"
     ]
    },
    {
     "name": "stderr",
     "output_type": "stream",
     "text": [
      "c:\\Users\\jlvar\\OneDrive - Universidad del rosario\\001 - MMACC\\2025-1\\002 - Aplicaicones ML\\Tarea 2\\utils.py:248: RuntimeWarning: The training result may differ even with fixed seed if `workers` != 1.\n",
      "  modelo.train(iteraciones)\n"
     ]
    },
    {
     "name": "stdout",
     "output_type": "stream",
     "text": [
      "Fold 1 accuracy: 0.7212\n",
      "Entrenando modelo con 7910 documentos (fold 2)\n"
     ]
    },
    {
     "name": "stderr",
     "output_type": "stream",
     "text": [
      "c:\\Users\\jlvar\\OneDrive - Universidad del rosario\\001 - MMACC\\2025-1\\002 - Aplicaicones ML\\Tarea 2\\utils.py:248: RuntimeWarning: The training result may differ even with fixed seed if `workers` != 1.\n",
      "  modelo.train(iteraciones)\n"
     ]
    },
    {
     "name": "stdout",
     "output_type": "stream",
     "text": [
      "Fold 2 accuracy: 0.7093\n",
      "Entrenando modelo con 7909 documentos (fold 3)\n"
     ]
    },
    {
     "name": "stderr",
     "output_type": "stream",
     "text": [
      "c:\\Users\\jlvar\\OneDrive - Universidad del rosario\\001 - MMACC\\2025-1\\002 - Aplicaicones ML\\Tarea 2\\utils.py:248: RuntimeWarning: The training result may differ even with fixed seed if `workers` != 1.\n",
      "  modelo.train(iteraciones)\n"
     ]
    },
    {
     "name": "stdout",
     "output_type": "stream",
     "text": [
      "Fold 3 accuracy: 0.7140\n",
      "Entrenando modelo con 7911 documentos (fold 4)\n"
     ]
    },
    {
     "name": "stderr",
     "output_type": "stream",
     "text": [
      "c:\\Users\\jlvar\\OneDrive - Universidad del rosario\\001 - MMACC\\2025-1\\002 - Aplicaicones ML\\Tarea 2\\utils.py:248: RuntimeWarning: The training result may differ even with fixed seed if `workers` != 1.\n",
      "  modelo.train(iteraciones)\n"
     ]
    },
    {
     "name": "stdout",
     "output_type": "stream",
     "text": [
      "Fold 4 accuracy: 0.7223\n",
      "Entrenando modelo con 7910 documentos (fold 5)\n"
     ]
    },
    {
     "name": "stderr",
     "output_type": "stream",
     "text": [
      "c:\\Users\\jlvar\\OneDrive - Universidad del rosario\\001 - MMACC\\2025-1\\002 - Aplicaicones ML\\Tarea 2\\utils.py:248: RuntimeWarning: The training result may differ even with fixed seed if `workers` != 1.\n",
      "  modelo.train(iteraciones)\n"
     ]
    },
    {
     "name": "stdout",
     "output_type": "stream",
     "text": [
      "Fold 5 accuracy: 0.7128\n",
      "→ k=16, accuracy promedio: 0.7159\n",
      "Evaluando k=17...\n",
      "Entrenando modelo con 7912 documentos (fold 1)\n"
     ]
    },
    {
     "name": "stderr",
     "output_type": "stream",
     "text": [
      "c:\\Users\\jlvar\\OneDrive - Universidad del rosario\\001 - MMACC\\2025-1\\002 - Aplicaicones ML\\Tarea 2\\utils.py:248: RuntimeWarning: The training result may differ even with fixed seed if `workers` != 1.\n",
      "  modelo.train(iteraciones)\n"
     ]
    },
    {
     "name": "stdout",
     "output_type": "stream",
     "text": [
      "Fold 1 accuracy: 0.7454\n",
      "Entrenando modelo con 7910 documentos (fold 2)\n"
     ]
    },
    {
     "name": "stderr",
     "output_type": "stream",
     "text": [
      "c:\\Users\\jlvar\\OneDrive - Universidad del rosario\\001 - MMACC\\2025-1\\002 - Aplicaicones ML\\Tarea 2\\utils.py:248: RuntimeWarning: The training result may differ even with fixed seed if `workers` != 1.\n",
      "  modelo.train(iteraciones)\n"
     ]
    },
    {
     "name": "stdout",
     "output_type": "stream",
     "text": [
      "Fold 2 accuracy: 0.7184\n",
      "Entrenando modelo con 7909 documentos (fold 3)\n"
     ]
    },
    {
     "name": "stderr",
     "output_type": "stream",
     "text": [
      "c:\\Users\\jlvar\\OneDrive - Universidad del rosario\\001 - MMACC\\2025-1\\002 - Aplicaicones ML\\Tarea 2\\utils.py:248: RuntimeWarning: The training result may differ even with fixed seed if `workers` != 1.\n",
      "  modelo.train(iteraciones)\n"
     ]
    },
    {
     "name": "stdout",
     "output_type": "stream",
     "text": [
      "Fold 3 accuracy: 0.7180\n",
      "Entrenando modelo con 7911 documentos (fold 4)\n"
     ]
    },
    {
     "name": "stderr",
     "output_type": "stream",
     "text": [
      "c:\\Users\\jlvar\\OneDrive - Universidad del rosario\\001 - MMACC\\2025-1\\002 - Aplicaicones ML\\Tarea 2\\utils.py:248: RuntimeWarning: The training result may differ even with fixed seed if `workers` != 1.\n",
      "  modelo.train(iteraciones)\n"
     ]
    },
    {
     "name": "stdout",
     "output_type": "stream",
     "text": [
      "Fold 4 accuracy: 0.7314\n",
      "Entrenando modelo con 7910 documentos (fold 5)\n"
     ]
    },
    {
     "name": "stderr",
     "output_type": "stream",
     "text": [
      "c:\\Users\\jlvar\\OneDrive - Universidad del rosario\\001 - MMACC\\2025-1\\002 - Aplicaicones ML\\Tarea 2\\utils.py:248: RuntimeWarning: The training result may differ even with fixed seed if `workers` != 1.\n",
      "  modelo.train(iteraciones)\n"
     ]
    },
    {
     "name": "stdout",
     "output_type": "stream",
     "text": [
      "Fold 5 accuracy: 0.7108\n",
      "→ k=17, accuracy promedio: 0.7248\n",
      "Evaluando k=18...\n",
      "Entrenando modelo con 7912 documentos (fold 1)\n"
     ]
    },
    {
     "name": "stderr",
     "output_type": "stream",
     "text": [
      "c:\\Users\\jlvar\\OneDrive - Universidad del rosario\\001 - MMACC\\2025-1\\002 - Aplicaicones ML\\Tarea 2\\utils.py:248: RuntimeWarning: The training result may differ even with fixed seed if `workers` != 1.\n",
      "  modelo.train(iteraciones)\n"
     ]
    },
    {
     "name": "stdout",
     "output_type": "stream",
     "text": [
      "Fold 1 accuracy: 0.7252\n",
      "Entrenando modelo con 7910 documentos (fold 2)\n"
     ]
    },
    {
     "name": "stderr",
     "output_type": "stream",
     "text": [
      "c:\\Users\\jlvar\\OneDrive - Universidad del rosario\\001 - MMACC\\2025-1\\002 - Aplicaicones ML\\Tarea 2\\utils.py:248: RuntimeWarning: The training result may differ even with fixed seed if `workers` != 1.\n",
      "  modelo.train(iteraciones)\n"
     ]
    },
    {
     "name": "stdout",
     "output_type": "stream",
     "text": [
      "Fold 2 accuracy: 0.7169\n",
      "Entrenando modelo con 7909 documentos (fold 3)\n"
     ]
    },
    {
     "name": "stderr",
     "output_type": "stream",
     "text": [
      "c:\\Users\\jlvar\\OneDrive - Universidad del rosario\\001 - MMACC\\2025-1\\002 - Aplicaicones ML\\Tarea 2\\utils.py:248: RuntimeWarning: The training result may differ even with fixed seed if `workers` != 1.\n",
      "  modelo.train(iteraciones)\n"
     ]
    },
    {
     "name": "stdout",
     "output_type": "stream",
     "text": [
      "Fold 3 accuracy: 0.7094\n",
      "Entrenando modelo con 7911 documentos (fold 4)\n"
     ]
    },
    {
     "name": "stderr",
     "output_type": "stream",
     "text": [
      "c:\\Users\\jlvar\\OneDrive - Universidad del rosario\\001 - MMACC\\2025-1\\002 - Aplicaicones ML\\Tarea 2\\utils.py:248: RuntimeWarning: The training result may differ even with fixed seed if `workers` != 1.\n",
      "  modelo.train(iteraciones)\n"
     ]
    },
    {
     "name": "stdout",
     "output_type": "stream",
     "text": [
      "Fold 4 accuracy: 0.7198\n",
      "Entrenando modelo con 7910 documentos (fold 5)\n"
     ]
    },
    {
     "name": "stderr",
     "output_type": "stream",
     "text": [
      "c:\\Users\\jlvar\\OneDrive - Universidad del rosario\\001 - MMACC\\2025-1\\002 - Aplicaicones ML\\Tarea 2\\utils.py:248: RuntimeWarning: The training result may differ even with fixed seed if `workers` != 1.\n",
      "  modelo.train(iteraciones)\n"
     ]
    },
    {
     "name": "stdout",
     "output_type": "stream",
     "text": [
      "Fold 5 accuracy: 0.7058\n",
      "→ k=18, accuracy promedio: 0.7154\n",
      "Evaluando k=19...\n",
      "Entrenando modelo con 7912 documentos (fold 1)\n"
     ]
    },
    {
     "name": "stderr",
     "output_type": "stream",
     "text": [
      "c:\\Users\\jlvar\\OneDrive - Universidad del rosario\\001 - MMACC\\2025-1\\002 - Aplicaicones ML\\Tarea 2\\utils.py:248: RuntimeWarning: The training result may differ even with fixed seed if `workers` != 1.\n",
      "  modelo.train(iteraciones)\n"
     ]
    },
    {
     "name": "stdout",
     "output_type": "stream",
     "text": [
      "Fold 1 accuracy: 0.7212\n",
      "Entrenando modelo con 7910 documentos (fold 2)\n"
     ]
    },
    {
     "name": "stderr",
     "output_type": "stream",
     "text": [
      "c:\\Users\\jlvar\\OneDrive - Universidad del rosario\\001 - MMACC\\2025-1\\002 - Aplicaicones ML\\Tarea 2\\utils.py:248: RuntimeWarning: The training result may differ even with fixed seed if `workers` != 1.\n",
      "  modelo.train(iteraciones)\n"
     ]
    },
    {
     "name": "stdout",
     "output_type": "stream",
     "text": [
      "Fold 2 accuracy: 0.7164\n",
      "Entrenando modelo con 7909 documentos (fold 3)\n"
     ]
    },
    {
     "name": "stderr",
     "output_type": "stream",
     "text": [
      "c:\\Users\\jlvar\\OneDrive - Universidad del rosario\\001 - MMACC\\2025-1\\002 - Aplicaicones ML\\Tarea 2\\utils.py:248: RuntimeWarning: The training result may differ even with fixed seed if `workers` != 1.\n",
      "  modelo.train(iteraciones)\n"
     ]
    },
    {
     "name": "stdout",
     "output_type": "stream",
     "text": [
      "Fold 3 accuracy: 0.7140\n",
      "Entrenando modelo con 7911 documentos (fold 4)\n"
     ]
    },
    {
     "name": "stderr",
     "output_type": "stream",
     "text": [
      "c:\\Users\\jlvar\\OneDrive - Universidad del rosario\\001 - MMACC\\2025-1\\002 - Aplicaicones ML\\Tarea 2\\utils.py:248: RuntimeWarning: The training result may differ even with fixed seed if `workers` != 1.\n",
      "  modelo.train(iteraciones)\n"
     ]
    },
    {
     "name": "stdout",
     "output_type": "stream",
     "text": [
      "Fold 4 accuracy: 0.7334\n",
      "Entrenando modelo con 7910 documentos (fold 5)\n"
     ]
    },
    {
     "name": "stderr",
     "output_type": "stream",
     "text": [
      "c:\\Users\\jlvar\\OneDrive - Universidad del rosario\\001 - MMACC\\2025-1\\002 - Aplicaicones ML\\Tarea 2\\utils.py:248: RuntimeWarning: The training result may differ even with fixed seed if `workers` != 1.\n",
      "  modelo.train(iteraciones)\n"
     ]
    },
    {
     "name": "stdout",
     "output_type": "stream",
     "text": [
      "Fold 5 accuracy: 0.7169\n",
      "→ k=19, accuracy promedio: 0.7204\n",
      "Evaluando k=20...\n",
      "Entrenando modelo con 7912 documentos (fold 1)\n"
     ]
    },
    {
     "name": "stderr",
     "output_type": "stream",
     "text": [
      "c:\\Users\\jlvar\\OneDrive - Universidad del rosario\\001 - MMACC\\2025-1\\002 - Aplicaicones ML\\Tarea 2\\utils.py:248: RuntimeWarning: The training result may differ even with fixed seed if `workers` != 1.\n",
      "  modelo.train(iteraciones)\n"
     ]
    },
    {
     "name": "stdout",
     "output_type": "stream",
     "text": [
      "Fold 1 accuracy: 0.7267\n",
      "Entrenando modelo con 7910 documentos (fold 2)\n"
     ]
    },
    {
     "name": "stderr",
     "output_type": "stream",
     "text": [
      "c:\\Users\\jlvar\\OneDrive - Universidad del rosario\\001 - MMACC\\2025-1\\002 - Aplicaicones ML\\Tarea 2\\utils.py:248: RuntimeWarning: The training result may differ even with fixed seed if `workers` != 1.\n",
      "  modelo.train(iteraciones)\n"
     ]
    },
    {
     "name": "stdout",
     "output_type": "stream",
     "text": [
      "Fold 2 accuracy: 0.7250\n",
      "Entrenando modelo con 7909 documentos (fold 3)\n"
     ]
    },
    {
     "name": "stderr",
     "output_type": "stream",
     "text": [
      "c:\\Users\\jlvar\\OneDrive - Universidad del rosario\\001 - MMACC\\2025-1\\002 - Aplicaicones ML\\Tarea 2\\utils.py:248: RuntimeWarning: The training result may differ even with fixed seed if `workers` != 1.\n",
      "  modelo.train(iteraciones)\n"
     ]
    },
    {
     "name": "stdout",
     "output_type": "stream",
     "text": [
      "Fold 3 accuracy: 0.7100\n",
      "Entrenando modelo con 7911 documentos (fold 4)\n"
     ]
    },
    {
     "name": "stderr",
     "output_type": "stream",
     "text": [
      "c:\\Users\\jlvar\\OneDrive - Universidad del rosario\\001 - MMACC\\2025-1\\002 - Aplicaicones ML\\Tarea 2\\utils.py:248: RuntimeWarning: The training result may differ even with fixed seed if `workers` != 1.\n",
      "  modelo.train(iteraciones)\n"
     ]
    },
    {
     "name": "stdout",
     "output_type": "stream",
     "text": [
      "Fold 4 accuracy: 0.7208\n",
      "Entrenando modelo con 7910 documentos (fold 5)\n"
     ]
    },
    {
     "name": "stderr",
     "output_type": "stream",
     "text": [
      "c:\\Users\\jlvar\\OneDrive - Universidad del rosario\\001 - MMACC\\2025-1\\002 - Aplicaicones ML\\Tarea 2\\utils.py:248: RuntimeWarning: The training result may differ even with fixed seed if `workers` != 1.\n",
      "  modelo.train(iteraciones)\n"
     ]
    },
    {
     "name": "stdout",
     "output_type": "stream",
     "text": [
      "Fold 5 accuracy: 0.7113\n",
      "→ k=20, accuracy promedio: 0.7188\n"
     ]
    }
   ],
   "source": [
    "valores_k = range(10, 21)\n",
    "resultados_kfold = {}\n",
    "\n",
    "for k in valores_k:\n",
    "    print(f\"Evaluando k={k}...\")\n",
    "    acc = validar_kfold_slda_1(k, documentos, genero, folds=5,iteraciones=500)\n",
    "    resultados_kfold[k] = acc\n",
    "    print(f\"→ k={k}, accuracy promedio: {acc:.4f}\")"
   ]
  },
  {
   "cell_type": "markdown",
   "id": "da305100",
   "metadata": {},
   "source": [
    "### Entrenamiento final del modelo S-LDA (binario)\n",
    "\n",
    "Con base en los resultados obtenidos mediante validación cruzada, se seleccionó **k = 14** como el número óptimo de temas para el modelo supervisado S-LDA, dado que arrojó el mejor desempeño promedio en términos de accuracy.\n",
    "\n",
    "En esta celda se realiza el entrenamiento final del modelo con todos los datos disponibles del conjunto de entrenamiento (`documentos` y `genero`), utilizando 20 temas. Posteriormente, se imprimen los términos más representativos de cada tema y los coeficientes de regresión asociados, los cuales permiten interpretar la relevancia de cada tópico en la predicción del género **Drama**.\n"
   ]
  },
  {
   "cell_type": "code",
   "execution_count": 9,
   "id": "8d54a59a",
   "metadata": {},
   "outputs": [
    {
     "name": "stdout",
     "output_type": "stream",
     "text": [
      "\n",
      "Temas Aprendidos:\n",
      "Tema #0: [('film', 0.03261259198188782), ('documentary', 0.027072299271821976), ('world', 0.015781857073307037), ('life', 0.01296973880380392), ('history', 0.010829172097146511)]\n",
      "Tema #1: [('doctor', 0.029266133904457092), ('hospital', 0.022532928735017776), ('patient', 0.02020220458507538), ('mental', 0.01916632615029812), ('disease', 0.01683560200035572)]\n",
      "Tema #2: [('murder', 0.023661991581320763), ('police', 0.019612591713666916), ('crime', 0.015086791478097439), ('prison', 0.01453099213540554), ('kill', 0.012942992150783539)]\n",
      "Tema #3: [('school', 0.08807523548603058), ('student', 0.04811578989028931), ('high', 0.045125629752874374), ('girl', 0.029631149023771286), ('teacher', 0.025281822308897972)]\n",
      "Tema #4: [('team', 0.0379006452858448), ('game', 0.02968674711883068), ('win', 0.02017592079937458), ('player', 0.018446680158376694), ('football', 0.014267681166529655)]\n",
      "Tema #5: [('war', 0.029370572417974472), ('country', 0.014317549765110016), ('american', 0.013908499851822853), ('story', 0.013254021294414997), ('group', 0.01006343588232994)]\n",
      "Tema #6: [('life', 0.044050272554159164), ('story', 0.023560501635074615), ('man', 0.01662924326956272), ('world', 0.012312407605350018), ('young', 0.010853195562958717)]\n",
      "Tema #7: [('love', 0.044814761728048325), ('woman', 0.03880422189831734), ('young', 0.026341190561652184), ('fall', 0.023247530683875084), ('husband', 0.02068421058356762)]\n",
      "Tema #8: [('film', 0.09308671206235886), ('movie', 0.029109863564372063), ('story', 0.019801268354058266), ('play', 0.017671337351202965), ('base', 0.017355792224407196)]\n",
      "Tema #9: [('family', 0.03437747433781624), ('year', 0.026673436164855957), ('old', 0.02660495601594448), ('father', 0.025201108306646347), ('young', 0.023489100858569145)]\n",
      "Tema #10: [('money', 0.020384695380926132), ('work', 0.019693708047270775), ('job', 0.015202292241156101), ('company', 0.011747355572879314), ('business', 0.010998786427080631)]\n",
      "Tema #11: [('man', 0.025442548096179962), ('dance', 0.01251113973557949), ('king', 0.012089462950825691), ('street', 0.011246110312640667), ('building', 0.0111055513843894)]\n",
      "Tema #12: [('mysterious', 0.013152578845620155), ('kill', 0.012121071107685566), ('dead', 0.011605317704379559), ('find', 0.011175522580742836), ('house', 0.010745728388428688)]\n",
      "Tema #13: [('friend', 0.021911485120654106), ('find', 0.021298838779330254), ('time', 0.015064259059727192), ('day', 0.01495614554733038), ('night', 0.011784798465669155)]\n",
      "Tema #14: [('man', 0.01633695513010025), ('gang', 0.016120586544275284), ('town', 0.014497817493975163), ('set', 0.010170434601604939), ('battle', 0.009737695567309856)]\n",
      "Tema #15: [('earth', 0.0165492482483387), ('island', 0.011805446818470955), ('world', 0.011695126071572304), ('crew', 0.010702237486839294), ('ship', 0.010150632821023464)]\n",
      "Tema #16: [('comedy', 0.030118927359580994), ('stand', 0.02014479972422123), ('special', 0.018873589113354683), ('music', 0.014864380471408367), ('star', 0.012615312822163105)]\n",
      "\n",
      "Coeficientes de Regresión para Sentimiento (Log-Odds):\n",
      "Tema #0: -4.9616\n",
      "Tema #1: -0.7934\n",
      "Tema #2: -1.5221\n",
      "Tema #3: -0.0386\n",
      "Tema #4: -0.9253\n",
      "Tema #5: 0.6975\n",
      "Tema #6: 2.9622\n",
      "Tema #7: 1.7737\n",
      "Tema #8: 0.0378\n",
      "Tema #9: 2.9872\n",
      "Tema #10: -1.4509\n",
      "Tema #11: -1.0582\n",
      "Tema #12: -6.0835\n",
      "Tema #13: -2.7558\n",
      "Tema #14: -4.0366\n",
      "Tema #15: -3.2217\n",
      "Tema #16: -4.7838\n"
     ]
    },
    {
     "name": "stderr",
     "output_type": "stream",
     "text": [
      "C:\\Users\\jlvar\\AppData\\Local\\Temp\\ipykernel_26744\\2657913109.py:11: RuntimeWarning: The training result may differ even with fixed seed if `workers` != 1.\n",
      "  modelo_binario.train(5000)\n"
     ]
    }
   ],
   "source": [
    "# Entrenamiento y análisis del modelo supervisado S-LDA (binario)\n",
    "\n",
    "# 1. Inicialización del modelo S-LDA para clasificación binaria (Drama vs. no Drama)\n",
    "modelo_binario = tp.SLDAModel(k=17, seed=123, vars='b')\n",
    "\n",
    "# 2. Adición de documentos de entrenamiento y sus etiquetas binarias al modelo\n",
    "for i in range(len(documentos)):\n",
    "    modelo_binario.add_doc(words=documentos[i], y=[genero[i]])\n",
    "\n",
    "# 3. Entrenamiento del modelo durante 2000 iteraciones\n",
    "modelo_binario.train(5000)\n",
    "\n",
    "# 4. Impresión de los 5 términos más representativos de cada uno de los 10 tópicos aprendidos\n",
    "print(\"\\nTemas Aprendidos:\")\n",
    "for k in range(modelo_binario.k):\n",
    "    print(f\"Tema #{k}: {modelo_binario.get_topic_words(k, top_n=5)}\")\n",
    "\n",
    "# 5. Extracción e impresión de los coeficientes de regresión (log-odds) para cada tópico,\n",
    "#    que indican su influencia en la predicción de la clase positiva (Drama)\n",
    "coeficientes_regresion_binario = modelo_binario.get_regression_coef(0)\n",
    "print(\"\\nCoeficientes de Regresión para Sentimiento (Log-Odds):\")\n",
    "for i, coef in enumerate(coeficientes_regresion_binario):\n",
    "    print(f\"Tema #{i}: {coef:.4f}\")\n",
    "\n"
   ]
  },
  {
   "cell_type": "markdown",
   "id": "e1d5deb3",
   "metadata": {},
   "source": [
    "### Visualización de Palabras Más Relevantes por Tema\n",
    "\n",
    "En esta celda se utiliza la función `graficar_todos_los_temas_en_una_figura()` para generar una única figura que contiene subgráficas (subplots) correspondientes a cada uno de los 17 temas inferidos por el modelo `modelo_binario`. \n",
    "\n",
    "Cada subgráfica presenta las 10 palabras más representativas del tema respectivo, ordenadas de menor a mayor peso para facilitar su lectura. Los pesos reflejan la relevancia de cada palabra dentro del tema, según la distribución aprendida por el modelo sLDA.\n",
    "\n",
    "\n",
    "| Tema | Palabras Clave Principales                                             | Título Propuesto*                     |\n",
    "|------|------------------------------------------------------------------------|--------------------------------------|\n",
    "| 0    | film, documentary, world, life, history                                | Documentales y Cine Histórico        |\n",
    "| 1    | doctor, hospital, patient, mental, disease                             | Salud y Enfermedades Mentales        |\n",
    "| 2    | murder, police, crime, prison, kill                                    | Crimen y Justicia Penal              |\n",
    "| 3    | school, student, high, girl, teacher                                   | Vida Escolar y Adolescencia          |\n",
    "| 4    | team, game, win, player, football                                      | Deportes y Competencias              |\n",
    "| 5    | war, country, american, story, group                                   | Conflictos Bélicos y Sociedad        |\n",
    "| 6    | life, story, man, world, young                                         | Existencia, Identidad y Superación   |\n",
    "| 7    | love, woman, young, fall, husband                                      | Romance y Relaciones de Pareja       |\n",
    "| 8    | film, movie, story, play, base                                         | Cine y Producción Fílmica            |\n",
    "| 9    | family, year, old, father, young                                       | Dinámicas Familiares                 |\n",
    "| 10   | money, work, job, company, business                                    | Trabajo y Ambición Económica         |\n",
    "| 11   | man, dance, king, street, building                                     | Vida Urbana y Expresión Artística    |\n",
    "| 12   | mysterious, kill, dead, find, house                                    | Misterio y Terror Doméstico          |\n",
    "| 13   | friend, find, time, day, night                                         | Amistad y Paso del Tiempo            |\n",
    "| 14   | man, gang, town, set, battle                                           | Violencia y Lucha Territorial        |\n",
    "| 15   | earth, island, world, crew, ship                                       | Exploración y Aventuras Fantásticas  |\n",
    "| 16   | comedy, stand, special, music, star                                    | Comedia y Espectáculo en Vivo        |\n",
    "\n",
    "*Titulos de temas generados usando el modelo GPT4o"
   ]
  },
  {
   "cell_type": "code",
   "execution_count": 18,
   "id": "1497497b",
   "metadata": {},
   "outputs": [
    {
     "data": {
      "image/png": "[encoded data removed]",
      "text/plain": [
       "<Figure size 2000x2000 with 20 Axes>"
      ]
     },
     "metadata": {},
     "output_type": "display_data"
    }
   ],
   "source": [
    "graficar_todos_los_temas_en_una_figura(modelo_binario, num_temas=17, top_n=10)"
   ]
  },
  {
   "cell_type": "markdown",
   "id": "9e63d948",
   "metadata": {},
   "source": [
    "### Película de Ejemplo 1\n",
    "\n",
    "**Título:** The Love Guru  \n",
    "**Género:** Comedy  \n",
    "**Overview:**  \n",
    "Born in America and raised in an Indian ashram, Pitka (Mike Myers) returns to his native land to seek his fortune as a spiritualist and self-help expert. His skills are put to the test when he must get a brokenhearted hockey player's marriage back on track in time for the man to help his team win the Stanley Cup.  \n",
    "\n",
    "🔗 [Ver en Rotten Tomatoes](https://www.rottentomatoes.com/m/love_guru)\n",
    "\n",
    "                  "
   ]
  },
  {
   "cell_type": "code",
   "execution_count": 10,
   "id": "867f1168",
   "metadata": {},
   "outputs": [
    {
     "name": "stdout",
     "output_type": "stream",
     "text": [
      "Documento de prueba: <tomotopy.Document with words=\"bear raise return native land seek fortune spiritualist self help expert skill test brokenhearted hockey player marriage track time man help team win cup\">\n",
      "Distribución de los temas [0.0834342  0.0022859  0.00816904 0.00491086 0.24956374 0.00804961\n",
      " 0.09272353 0.0426947  0.00797175 0.2296385  0.08180994 0.00471798\n",
      " 0.0074256  0.01887839 0.00597785 0.14574043 0.006008  ]\n",
      "Predicción: Género 18 (negativo)  [0.43200457]\n"
     ]
    }
   ],
   "source": [
    "overview_1 = \"Born in America and raised in an Indian ashram, Pitka (Mike Myers) returns to his native land to seek his fortune as a spiritualist and self-help expert. His skills are put to the test when he must get a brokenhearted hockey player's marriage back on track in time for the man to help his team win the Stanley Cup.\"\n",
    "overview_1 = preprocesar_texto(overview_1)\n",
    "doc_inst_1 = modelo_binario.make_doc(overview_1)\n",
    "print(\"Documento de prueba:\", doc_inst_1)\n",
    "topic_dist_1, _ = modelo_binario.infer(doc_inst_1)\n",
    "print(\"Distribución de los temas\", topic_dist_1)\n",
    "prob_dist_1 = modelo_binario.estimate(doc_inst_1)\n",
    "if prob_dist_1 > 0.5:\n",
    "    print(\"Predicción: Género 18 (positivo) \", prob_dist_1)\n",
    "else:\n",
    "    print(\"Predicción: Género 18 (negativo) \", prob_dist_1)\n",
    "    "
   ]
  },
  {
   "cell_type": "markdown",
   "id": "a180d54c",
   "metadata": {},
   "source": [
    "### Película de Ejemplo 2\n",
    "\n",
    "**Título:** Peppa Meets the Baby  \n",
    "**Género:** Animation \n",
    "**Overview:**  \n",
    "PIG changes are coming! Join Peppa Pig and her family at the cinema as they get ready for their biggest adventure yet: welcoming a new BABY! There's no better time to embark on a full house renovation, shop for a new car and make special memories together. Celebrate the beginning of an exciting new era of Peppa Pig at this special, big screen experience with an hour of laughter, tears and loads of heartwarming moments. With 10 oinktastic new episodes, 6 brand new songs and music videos, your little ones can dance and sing along with Peppa and her family and friends. The wait is finally over... join Peppa and George as they meet their new baby sibling for the first time at Peppa Meets the Baby Cinema Experience!  \n",
    "\n",
    "🔗 [Ver en Rotten Tomatoes](https://www.rottentomatoes.com/m/peppa_meets_the_baby)\n"
   ]
  },
  {
   "cell_type": "code",
   "execution_count": 11,
   "id": "ce22dd88",
   "metadata": {},
   "outputs": [
    {
     "name": "stdout",
     "output_type": "stream",
     "text": [
      "Documento de prueba: <tomotopy.Document with words=\"pig change come family cinema ready big adventure welcome new baby well time embark house renovation shop new car special memory celebrate beginning exciting new era pig special big screen experience hour laughter tear load heartwarming moment new episode brand new song music video little one dance sing family friend wait join meet new baby sible time meet baby cinema experience\">\n",
      "Distribución de los temas [0.02104062 0.00099472 0.00355479 0.00213698 0.00173591 0.00350282\n",
      " 0.19301008 0.00331266 0.07979947 0.16099255 0.03559992 0.03258526\n",
      " 0.00323128 0.2524727  0.00260128 0.03288731 0.17054157]\n",
      "Predicción: Género 18 (negativo)  [0.314491]\n"
     ]
    }
   ],
   "source": [
    "overview_2 = \"PIG changes are coming! Join Peppa Pig and her family at the cinema as they get ready for their biggest adventure yet: welcoming a new BABY! There's no better time to embark on a full house renovation, shop for a new car and make special memories together. Celebrate the beginning of an exciting new era of Peppa Pig at this special, big screen experience with an hour of laughter, tears and loads of heartwarming moments. With 10 oinktastic new episodes, 6 brand new songs and music videos, your little ones can dance and sing along with Peppa and her family and friends. The wait is finally over... join Peppa and George as they meet their new baby sibling for the first time at Peppa Meets the Baby Cinema Experience!\"\n",
    "overview_2 = preprocesar_texto(overview_2)\n",
    "doc_inst_2 = modelo_binario.make_doc(overview_2)\n",
    "print(\"Documento de prueba:\", doc_inst_2)\n",
    "topic_dist_2, _ = modelo_binario.infer(doc_inst_2)\n",
    "print(\"Distribución de los temas\", topic_dist_2)\n",
    "prob_dist_2 = modelo_binario.estimate(doc_inst_2)\n",
    "if prob_dist_2 > 0.5:\n",
    "    print(\"Predicción: Género 18 (positivo) \", prob_dist_2)\n",
    "else:\n",
    "    print(\"Predicción: Género 18 (negativo) \", prob_dist_2)\n",
    "    "
   ]
  },
  {
   "cell_type": "markdown",
   "id": "2c5bb655",
   "metadata": {},
   "source": [
    "### Película de Ejemplo 3\n",
    "\n",
    "**Título:** Manchester by the Sea  \n",
    "**Género:** Drama  \n",
    "**Overview:**  \n",
    "After the sudden death of his brother, Lee Chandler is shocked to learn that he has been made the legal guardian of his teenage nephew. Returning to his hometown in Massachusetts, Lee is forced to confront a past that separated him from his family and the community where he was born and raised.  \n",
    "\n",
    "🔗 [Ver en Rotten Tomatoes](https://www.rottentomatoes.com/m/manchester_by_the_sea)\n"
   ]
  },
  {
   "cell_type": "code",
   "execution_count": 13,
   "id": "425e7ad0",
   "metadata": {},
   "outputs": [
    {
     "name": "stdout",
     "output_type": "stream",
     "text": [
      "Documento de prueba: <tomotopy.Document with words=\"death old brother shock sole guardian teenage nephew patrick take leave job janitor return manchester sea fishing village working class family live generation force deal past separate wife community bear raise\">\n",
      "Distribución de los temas [0.01065375 0.00183522 0.03472383 0.08843879 0.00320269 0.06279333\n",
      " 0.046277   0.00611173 0.00640006 0.4941827  0.12201124 0.00378779\n",
      " 0.00596159 0.01515638 0.00479927 0.08884121 0.00482348]\n",
      "Predicción: Género 18 (positivo)  [0.7732648]\n"
     ]
    }
   ],
   "source": [
    "overview_3 = \"After the death of his older brother Joe, Lee Chandler (Casey Affleck) is shocked that Joe has made him sole guardian of his teenage nephew Patrick. Taking leave of his job as a janitor in Boston, Lee reluctantly returns to Manchester-by-the-Sea, the fishing village where his working-class family has lived for generations. There, he is forced to deal with a past that separated him from his wife, Randi (Michelle Williams), and the community where he was born and raised.\"\n",
    "overview_3 = preprocesar_texto(overview_3)\n",
    "doc_inst_3 = modelo_binario.make_doc(overview_3)\n",
    "print(\"Documento de prueba:\", doc_inst_3)\n",
    "topic_dist_3, _ = modelo_binario.infer(doc_inst_3)\n",
    "print(\"Distribución de los temas\", topic_dist_3)\n",
    "prob_dist_3 = modelo_binario.estimate(doc_inst_3)\n",
    "if prob_dist_3 > 0.5:\n",
    "    print(\"Predicción: Género 18 (positivo) \", prob_dist_3)\n",
    "else:\n",
    "    print(\"Predicción: Género 18 (negativo) \", prob_dist_3) "
   ]
  }
 ],
 "metadata": {
  "kernelspec": {
   "display_name": "Python 3",
   "language": "python",
   "name": "python3"
  },
  "language_info": {
   "codemirror_mode": {
    "name": "ipython",
    "version": 3
   },
   "file_extension": ".py",
   "mimetype": "text/x-python",
   "name": "python",
   "nbconvert_exporter": "python",
   "pygments_lexer": "ipython3",
   "version": "3.10.16"
  }
 },
 "nbformat": 4,
 "nbformat_minor": 5
}
